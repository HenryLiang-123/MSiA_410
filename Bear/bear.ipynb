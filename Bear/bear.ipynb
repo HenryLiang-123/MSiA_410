{
 "cells": [
  {
   "cell_type": "code",
   "execution_count": 118,
   "metadata": {},
   "outputs": [
    {
     "data": {
      "text/html": [
       "<div>\n",
       "<style scoped>\n",
       "    .dataframe tbody tr th:only-of-type {\n",
       "        vertical-align: middle;\n",
       "    }\n",
       "\n",
       "    .dataframe tbody tr th {\n",
       "        vertical-align: top;\n",
       "    }\n",
       "\n",
       "    .dataframe thead th {\n",
       "        text-align: right;\n",
       "    }\n",
       "</style>\n",
       "<table border=\"1\" class=\"dataframe\">\n",
       "  <thead>\n",
       "    <tr style=\"text-align: right;\">\n",
       "      <th></th>\n",
       "      <th>food_game</th>\n",
       "      <th>UserID</th>\n",
       "      <th>UseCount</th>\n",
       "      <th>revenue</th>\n",
       "      <th>game_week</th>\n",
       "      <th>special_discount</th>\n",
       "      <th>special_item</th>\n",
       "      <th>FAMILYGROUPNAME</th>\n",
       "      <th>Master_Item</th>\n",
       "      <th>MENUITEMNAME</th>\n",
       "      <th>...</th>\n",
       "      <th>first_week_discount</th>\n",
       "      <th>Discount_HotDog</th>\n",
       "      <th>Discount_SouvCup</th>\n",
       "      <th>Discount_BtlWater</th>\n",
       "      <th>Discount_Peanuts</th>\n",
       "      <th>Discount_Nachos</th>\n",
       "      <th>Discount_Pretzel</th>\n",
       "      <th>Discount_Popcorn</th>\n",
       "      <th>sth_rev_game</th>\n",
       "      <th>total_product_rev_nonSTH</th>\n",
       "    </tr>\n",
       "  </thead>\n",
       "  <tbody>\n",
       "    <tr>\n",
       "      <th>0</th>\n",
       "      <td>BAG PEANUTS_Game 1</td>\n",
       "      <td>3304107</td>\n",
       "      <td>1</td>\n",
       "      <td>4.726207</td>\n",
       "      <td>Game 1</td>\n",
       "      <td>STH Discount Only</td>\n",
       "      <td>Yes</td>\n",
       "      <td>SNACKS</td>\n",
       "      <td>20500003</td>\n",
       "      <td>BAG PEANUTS</td>\n",
       "      <td>...</td>\n",
       "      <td>No Discount</td>\n",
       "      <td>Yes</td>\n",
       "      <td>No</td>\n",
       "      <td>Yes</td>\n",
       "      <td>No</td>\n",
       "      <td>No</td>\n",
       "      <td>No</td>\n",
       "      <td>No</td>\n",
       "      <td>16441.58141</td>\n",
       "      <td>15296.65411</td>\n",
       "    </tr>\n",
       "    <tr>\n",
       "      <th>1</th>\n",
       "      <td>BAG PEANUTS_Game 1</td>\n",
       "      <td>3405989</td>\n",
       "      <td>1</td>\n",
       "      <td>4.730000</td>\n",
       "      <td>Game 1</td>\n",
       "      <td>STH Discount Only</td>\n",
       "      <td>Yes</td>\n",
       "      <td>SNACKS</td>\n",
       "      <td>20500003</td>\n",
       "      <td>BAG PEANUTS</td>\n",
       "      <td>...</td>\n",
       "      <td>No Discount</td>\n",
       "      <td>Yes</td>\n",
       "      <td>No</td>\n",
       "      <td>Yes</td>\n",
       "      <td>No</td>\n",
       "      <td>No</td>\n",
       "      <td>No</td>\n",
       "      <td>No</td>\n",
       "      <td>16441.58141</td>\n",
       "      <td>15296.65411</td>\n",
       "    </tr>\n",
       "    <tr>\n",
       "      <th>2</th>\n",
       "      <td>BAG PEANUTS_Game 1</td>\n",
       "      <td>3302989</td>\n",
       "      <td>1</td>\n",
       "      <td>4.730000</td>\n",
       "      <td>Game 1</td>\n",
       "      <td>STH Discount Only</td>\n",
       "      <td>Yes</td>\n",
       "      <td>SNACKS</td>\n",
       "      <td>20500003</td>\n",
       "      <td>BAG PEANUTS</td>\n",
       "      <td>...</td>\n",
       "      <td>No Discount</td>\n",
       "      <td>Yes</td>\n",
       "      <td>No</td>\n",
       "      <td>Yes</td>\n",
       "      <td>No</td>\n",
       "      <td>No</td>\n",
       "      <td>No</td>\n",
       "      <td>No</td>\n",
       "      <td>16441.58141</td>\n",
       "      <td>15296.65411</td>\n",
       "    </tr>\n",
       "    <tr>\n",
       "      <th>3</th>\n",
       "      <td>BAG PEANUTS_Game 1</td>\n",
       "      <td>3253641</td>\n",
       "      <td>1</td>\n",
       "      <td>4.567500</td>\n",
       "      <td>Game 1</td>\n",
       "      <td>STH Discount Only</td>\n",
       "      <td>Yes</td>\n",
       "      <td>SNACKS</td>\n",
       "      <td>20500003</td>\n",
       "      <td>BAG PEANUTS</td>\n",
       "      <td>...</td>\n",
       "      <td>No Discount</td>\n",
       "      <td>Yes</td>\n",
       "      <td>No</td>\n",
       "      <td>Yes</td>\n",
       "      <td>No</td>\n",
       "      <td>No</td>\n",
       "      <td>No</td>\n",
       "      <td>No</td>\n",
       "      <td>16441.58141</td>\n",
       "      <td>15296.65411</td>\n",
       "    </tr>\n",
       "    <tr>\n",
       "      <th>4</th>\n",
       "      <td>BAG PEANUTS_Game 1</td>\n",
       "      <td>3315665</td>\n",
       "      <td>1</td>\n",
       "      <td>4.726615</td>\n",
       "      <td>Game 1</td>\n",
       "      <td>STH Discount Only</td>\n",
       "      <td>Yes</td>\n",
       "      <td>SNACKS</td>\n",
       "      <td>20500003</td>\n",
       "      <td>BAG PEANUTS</td>\n",
       "      <td>...</td>\n",
       "      <td>No Discount</td>\n",
       "      <td>Yes</td>\n",
       "      <td>No</td>\n",
       "      <td>Yes</td>\n",
       "      <td>No</td>\n",
       "      <td>No</td>\n",
       "      <td>No</td>\n",
       "      <td>No</td>\n",
       "      <td>16441.58141</td>\n",
       "      <td>15296.65411</td>\n",
       "    </tr>\n",
       "  </tbody>\n",
       "</table>\n",
       "<p>5 rows × 25 columns</p>\n",
       "</div>"
      ],
      "text/plain": [
       "            food_game   UserID  UseCount   revenue game_week  \\\n",
       "0  BAG PEANUTS_Game 1  3304107         1  4.726207    Game 1   \n",
       "1  BAG PEANUTS_Game 1  3405989         1  4.730000    Game 1   \n",
       "2  BAG PEANUTS_Game 1  3302989         1  4.730000    Game 1   \n",
       "3  BAG PEANUTS_Game 1  3253641         1  4.567500    Game 1   \n",
       "4  BAG PEANUTS_Game 1  3315665         1  4.726615    Game 1   \n",
       "\n",
       "    special_discount special_item FAMILYGROUPNAME  Master_Item MENUITEMNAME  \\\n",
       "0  STH Discount Only          Yes          SNACKS     20500003  BAG PEANUTS   \n",
       "1  STH Discount Only          Yes          SNACKS     20500003  BAG PEANUTS   \n",
       "2  STH Discount Only          Yes          SNACKS     20500003  BAG PEANUTS   \n",
       "3  STH Discount Only          Yes          SNACKS     20500003  BAG PEANUTS   \n",
       "4  STH Discount Only          Yes          SNACKS     20500003  BAG PEANUTS   \n",
       "\n",
       "   ...  first_week_discount  Discount_HotDog  Discount_SouvCup  \\\n",
       "0  ...          No Discount              Yes                No   \n",
       "1  ...          No Discount              Yes                No   \n",
       "2  ...          No Discount              Yes                No   \n",
       "3  ...          No Discount              Yes                No   \n",
       "4  ...          No Discount              Yes                No   \n",
       "\n",
       "  Discount_BtlWater  Discount_Peanuts Discount_Nachos Discount_Pretzel  \\\n",
       "0               Yes                No              No               No   \n",
       "1               Yes                No              No               No   \n",
       "2               Yes                No              No               No   \n",
       "3               Yes                No              No               No   \n",
       "4               Yes                No              No               No   \n",
       "\n",
       "  Discount_Popcorn sth_rev_game total_product_rev_nonSTH  \n",
       "0               No  16441.58141              15296.65411  \n",
       "1               No  16441.58141              15296.65411  \n",
       "2               No  16441.58141              15296.65411  \n",
       "3               No  16441.58141              15296.65411  \n",
       "4               No  16441.58141              15296.65411  \n",
       "\n",
       "[5 rows x 25 columns]"
      ]
     },
     "execution_count": 118,
     "metadata": {},
     "output_type": "execute_result"
    }
   ],
   "source": [
    "import pandas as pd\n",
    "import numpy as np\n",
    "\n",
    "dat = pd.read_excel('ConcessionSalesData_ForClass.xlsx')\n",
    "dat.head(5)"
   ]
  },
  {
   "cell_type": "markdown",
   "metadata": {},
   "source": [
    "## Assumptions"
   ]
  },
  {
   "cell_type": "markdown",
   "metadata": {},
   "source": [
    "- Customer spending habits differ by game, so we must control for it\n",
    "- Assume that the average pricepoint for an item in each game is the weighted average of all actual prices, weighted by the demand.\n",
    "- Assume the occurence of discounts on 1 item does not depend on occurence of discounts of another item"
   ]
  },
  {
   "cell_type": "markdown",
   "metadata": {},
   "source": [
    "## Separate Items"
   ]
  },
  {
   "cell_type": "code",
   "execution_count": 119,
   "metadata": {},
   "outputs": [
    {
     "data": {
      "text/plain": [
       "array(['BAG PEANUTS', 'BAVARIAN PRETZEL', 'BRATWURST', 'BTL DEJA BLUE 1L',\n",
       "       'BTL DEJA BLUE', 'BURG CHS', 'BURG VEGGIE', 'CHICAGO DOG',\n",
       "       'CHIX TENDER BSKT', 'COFFEE 12', 'FRIES BSKT', 'HOT DOG',\n",
       "       'NACHOS SUPREME', 'NACHOS', 'POPCORN SML', 'SAND ITLIAN BEEF',\n",
       "       'SAUSAGE ITALIAN', 'SAUSAGE POLISH', 'SD CHEESE CUP',\n",
       "       'SLC PIZ CHEESE', 'SLC PIZ PEPPRNI', 'SLC PIZ SAUSAGE',\n",
       "       'SODA CUP 16', 'SOUV CUP 32', 'SOUV POPCORN'], dtype=object)"
      ]
     },
     "execution_count": 119,
     "metadata": {},
     "output_type": "execute_result"
    }
   ],
   "source": [
    "dat['MENUITEMNAME'].unique()"
   ]
  },
  {
   "cell_type": "markdown",
   "metadata": {},
   "source": [
    "### Peanuts"
   ]
  },
  {
   "cell_type": "code",
   "execution_count": 29,
   "metadata": {},
   "outputs": [
    {
     "data": {
      "text/html": [
       "<div>\n",
       "<style scoped>\n",
       "    .dataframe tbody tr th:only-of-type {\n",
       "        vertical-align: middle;\n",
       "    }\n",
       "\n",
       "    .dataframe tbody tr th {\n",
       "        vertical-align: top;\n",
       "    }\n",
       "\n",
       "    .dataframe thead th {\n",
       "        text-align: right;\n",
       "    }\n",
       "</style>\n",
       "<table border=\"1\" class=\"dataframe\">\n",
       "  <thead>\n",
       "    <tr style=\"text-align: right;\">\n",
       "      <th></th>\n",
       "      <th>food_game</th>\n",
       "      <th>UserID</th>\n",
       "      <th>UseCount</th>\n",
       "      <th>revenue</th>\n",
       "      <th>game_week</th>\n",
       "      <th>special_discount</th>\n",
       "      <th>special_item</th>\n",
       "      <th>FAMILYGROUPNAME</th>\n",
       "      <th>Master_Item</th>\n",
       "      <th>MENUITEMNAME</th>\n",
       "      <th>...</th>\n",
       "      <th>first_week_discount</th>\n",
       "      <th>Discount_HotDog</th>\n",
       "      <th>Discount_SouvCup</th>\n",
       "      <th>Discount_BtlWater</th>\n",
       "      <th>Discount_Peanuts</th>\n",
       "      <th>Discount_Nachos</th>\n",
       "      <th>Discount_Pretzel</th>\n",
       "      <th>Discount_Popcorn</th>\n",
       "      <th>sth_rev_game</th>\n",
       "      <th>total_product_rev_nonSTH</th>\n",
       "    </tr>\n",
       "  </thead>\n",
       "  <tbody>\n",
       "    <tr>\n",
       "      <th>0</th>\n",
       "      <td>BAG PEANUTS_Game 1</td>\n",
       "      <td>3304107</td>\n",
       "      <td>1</td>\n",
       "      <td>4.726207</td>\n",
       "      <td>Game 1</td>\n",
       "      <td>STH Discount Only</td>\n",
       "      <td>Yes</td>\n",
       "      <td>SNACKS</td>\n",
       "      <td>20500003</td>\n",
       "      <td>BAG PEANUTS</td>\n",
       "      <td>...</td>\n",
       "      <td>No Discount</td>\n",
       "      <td>Yes</td>\n",
       "      <td>No</td>\n",
       "      <td>Yes</td>\n",
       "      <td>No</td>\n",
       "      <td>No</td>\n",
       "      <td>No</td>\n",
       "      <td>No</td>\n",
       "      <td>16441.58141</td>\n",
       "      <td>15296.65411</td>\n",
       "    </tr>\n",
       "    <tr>\n",
       "      <th>1</th>\n",
       "      <td>BAG PEANUTS_Game 1</td>\n",
       "      <td>3405989</td>\n",
       "      <td>1</td>\n",
       "      <td>4.730000</td>\n",
       "      <td>Game 1</td>\n",
       "      <td>STH Discount Only</td>\n",
       "      <td>Yes</td>\n",
       "      <td>SNACKS</td>\n",
       "      <td>20500003</td>\n",
       "      <td>BAG PEANUTS</td>\n",
       "      <td>...</td>\n",
       "      <td>No Discount</td>\n",
       "      <td>Yes</td>\n",
       "      <td>No</td>\n",
       "      <td>Yes</td>\n",
       "      <td>No</td>\n",
       "      <td>No</td>\n",
       "      <td>No</td>\n",
       "      <td>No</td>\n",
       "      <td>16441.58141</td>\n",
       "      <td>15296.65411</td>\n",
       "    </tr>\n",
       "    <tr>\n",
       "      <th>2</th>\n",
       "      <td>BAG PEANUTS_Game 1</td>\n",
       "      <td>3302989</td>\n",
       "      <td>1</td>\n",
       "      <td>4.730000</td>\n",
       "      <td>Game 1</td>\n",
       "      <td>STH Discount Only</td>\n",
       "      <td>Yes</td>\n",
       "      <td>SNACKS</td>\n",
       "      <td>20500003</td>\n",
       "      <td>BAG PEANUTS</td>\n",
       "      <td>...</td>\n",
       "      <td>No Discount</td>\n",
       "      <td>Yes</td>\n",
       "      <td>No</td>\n",
       "      <td>Yes</td>\n",
       "      <td>No</td>\n",
       "      <td>No</td>\n",
       "      <td>No</td>\n",
       "      <td>No</td>\n",
       "      <td>16441.58141</td>\n",
       "      <td>15296.65411</td>\n",
       "    </tr>\n",
       "    <tr>\n",
       "      <th>3</th>\n",
       "      <td>BAG PEANUTS_Game 1</td>\n",
       "      <td>3253641</td>\n",
       "      <td>1</td>\n",
       "      <td>4.567500</td>\n",
       "      <td>Game 1</td>\n",
       "      <td>STH Discount Only</td>\n",
       "      <td>Yes</td>\n",
       "      <td>SNACKS</td>\n",
       "      <td>20500003</td>\n",
       "      <td>BAG PEANUTS</td>\n",
       "      <td>...</td>\n",
       "      <td>No Discount</td>\n",
       "      <td>Yes</td>\n",
       "      <td>No</td>\n",
       "      <td>Yes</td>\n",
       "      <td>No</td>\n",
       "      <td>No</td>\n",
       "      <td>No</td>\n",
       "      <td>No</td>\n",
       "      <td>16441.58141</td>\n",
       "      <td>15296.65411</td>\n",
       "    </tr>\n",
       "    <tr>\n",
       "      <th>4</th>\n",
       "      <td>BAG PEANUTS_Game 1</td>\n",
       "      <td>3315665</td>\n",
       "      <td>1</td>\n",
       "      <td>4.726615</td>\n",
       "      <td>Game 1</td>\n",
       "      <td>STH Discount Only</td>\n",
       "      <td>Yes</td>\n",
       "      <td>SNACKS</td>\n",
       "      <td>20500003</td>\n",
       "      <td>BAG PEANUTS</td>\n",
       "      <td>...</td>\n",
       "      <td>No Discount</td>\n",
       "      <td>Yes</td>\n",
       "      <td>No</td>\n",
       "      <td>Yes</td>\n",
       "      <td>No</td>\n",
       "      <td>No</td>\n",
       "      <td>No</td>\n",
       "      <td>No</td>\n",
       "      <td>16441.58141</td>\n",
       "      <td>15296.65411</td>\n",
       "    </tr>\n",
       "  </tbody>\n",
       "</table>\n",
       "<p>5 rows × 25 columns</p>\n",
       "</div>"
      ],
      "text/plain": [
       "            food_game   UserID  UseCount   revenue game_week  \\\n",
       "0  BAG PEANUTS_Game 1  3304107         1  4.726207    Game 1   \n",
       "1  BAG PEANUTS_Game 1  3405989         1  4.730000    Game 1   \n",
       "2  BAG PEANUTS_Game 1  3302989         1  4.730000    Game 1   \n",
       "3  BAG PEANUTS_Game 1  3253641         1  4.567500    Game 1   \n",
       "4  BAG PEANUTS_Game 1  3315665         1  4.726615    Game 1   \n",
       "\n",
       "    special_discount special_item FAMILYGROUPNAME  Master_Item MENUITEMNAME  \\\n",
       "0  STH Discount Only          Yes          SNACKS     20500003  BAG PEANUTS   \n",
       "1  STH Discount Only          Yes          SNACKS     20500003  BAG PEANUTS   \n",
       "2  STH Discount Only          Yes          SNACKS     20500003  BAG PEANUTS   \n",
       "3  STH Discount Only          Yes          SNACKS     20500003  BAG PEANUTS   \n",
       "4  STH Discount Only          Yes          SNACKS     20500003  BAG PEANUTS   \n",
       "\n",
       "   ...  first_week_discount  Discount_HotDog  Discount_SouvCup  \\\n",
       "0  ...          No Discount              Yes                No   \n",
       "1  ...          No Discount              Yes                No   \n",
       "2  ...          No Discount              Yes                No   \n",
       "3  ...          No Discount              Yes                No   \n",
       "4  ...          No Discount              Yes                No   \n",
       "\n",
       "  Discount_BtlWater  Discount_Peanuts Discount_Nachos Discount_Pretzel  \\\n",
       "0               Yes                No              No               No   \n",
       "1               Yes                No              No               No   \n",
       "2               Yes                No              No               No   \n",
       "3               Yes                No              No               No   \n",
       "4               Yes                No              No               No   \n",
       "\n",
       "  Discount_Popcorn sth_rev_game total_product_rev_nonSTH  \n",
       "0               No  16441.58141              15296.65411  \n",
       "1               No  16441.58141              15296.65411  \n",
       "2               No  16441.58141              15296.65411  \n",
       "3               No  16441.58141              15296.65411  \n",
       "4               No  16441.58141              15296.65411  \n",
       "\n",
       "[5 rows x 25 columns]"
      ]
     },
     "execution_count": 29,
     "metadata": {},
     "output_type": "execute_result"
    }
   ],
   "source": [
    "peanuts = dat.loc[dat['MENUITEMNAME'] == 'BAG PEANUTS', :]\n",
    "peanuts.head(5)"
   ]
  },
  {
   "cell_type": "code",
   "execution_count": 86,
   "metadata": {},
   "outputs": [
    {
     "data": {
      "text/plain": [
       "Index(['food_game', 'UserID', 'UseCount', 'revenue', 'game_week',\n",
       "       'special_discount', 'special_item', 'FAMILYGROUPNAME', 'Master_Item',\n",
       "       'MENUITEMNAME', 'PRICES', 'actual_discount', 'actual_price',\n",
       "       'Discount Type', 'Discount Percentage', 'first_week_discount',\n",
       "       'Discount_HotDog', 'Discount_SouvCup', 'Discount_BtlWater',\n",
       "       'Discount_Peanuts', 'Discount_Nachos', 'Discount_Pretzel',\n",
       "       'Discount_Popcorn', 'sth_rev_game', 'total_product_rev_nonSTH'],\n",
       "      dtype='object')"
      ]
     },
     "execution_count": 86,
     "metadata": {},
     "output_type": "execute_result"
    }
   ],
   "source": [
    "peanuts.columns"
   ]
  },
  {
   "cell_type": "code",
   "execution_count": 54,
   "metadata": {},
   "outputs": [
    {
     "name": "stderr",
     "output_type": "stream",
     "text": [
      "/tmp/ipykernel_415796/394097943.py:1: FutureWarning: Indexing with multiple keys (implicitly converted to a tuple of keys) will be deprecated, use a list instead.\n",
      "  weights = peanuts.groupby(by = ['game_week', 'Discount Type'])['UseCount', 'actual_price'].sum(numeric_only=True).reset_index()\n",
      "/tmp/ipykernel_415796/394097943.py:4: FutureWarning: Indexing with multiple keys (implicitly converted to a tuple of keys) will be deprecated, use a list instead.\n",
      "  weights = weights.groupby(by = ['game_week'])['weighted_sums', 'uc2'].sum().reset_index()\n"
     ]
    }
   ],
   "source": [
    "# Weight prices according to their demand.\n",
    "# Prices for CL are siginificantly lower than GA / STH\n",
    "# However the number of CL is also significantly lower than GA / STH\n",
    "# We want to weight each actual price by the demand of item at that price point\n",
    "# This negates the class imbalance issues\n",
    "\n",
    "weights = peanuts.groupby(by = ['game_week', 'Discount Type'])['UseCount', 'actual_price'].sum(numeric_only=True).reset_index()\n",
    "weights['weighted_sums'] = weights['UseCount'] * weights['actual_price']\n",
    "weights['uc2'] = weights['UseCount'] ** 2\n",
    "weights = weights.groupby(by = ['game_week'])['weighted_sums', 'uc2'].sum().reset_index()\n",
    "weights['weighted_actual_price'] = weights['weighted_sums'] / weights['uc2']\n",
    "demand = peanuts.groupby(by = ['game_week'])['UseCount'].sum(numeric_only=True).reset_index()\n",
    "peanut_demand_price = pd.merge(left = weights, right = demand, on = 'game_week')\n",
    "peanut_demand_price.drop(labels=['weighted_sums', 'uc2'], axis = 1, inplace=True)"
   ]
  },
  {
   "cell_type": "code",
   "execution_count": 67,
   "metadata": {},
   "outputs": [],
   "source": [
    "peanut_demand_price_controlled = pd.merge(left=peanut_demand_price, right=peanuts.loc[:, ['game_week', 'Discount_HotDog', 'Discount_SouvCup', 'Discount_BtlWater',\n",
    "       'Discount_Peanuts', 'Discount_Nachos', 'Discount_Pretzel',\n",
    "       'Discount_Popcorn']], on = 'game_week', how = 'left').drop_duplicates('game_week')"
   ]
  },
  {
   "cell_type": "code",
   "execution_count": 95,
   "metadata": {},
   "outputs": [
    {
     "data": {
      "text/html": [
       "<div>\n",
       "<style scoped>\n",
       "    .dataframe tbody tr th:only-of-type {\n",
       "        vertical-align: middle;\n",
       "    }\n",
       "\n",
       "    .dataframe tbody tr th {\n",
       "        vertical-align: top;\n",
       "    }\n",
       "\n",
       "    .dataframe thead th {\n",
       "        text-align: right;\n",
       "    }\n",
       "</style>\n",
       "<table border=\"1\" class=\"dataframe\">\n",
       "  <thead>\n",
       "    <tr style=\"text-align: right;\">\n",
       "      <th></th>\n",
       "      <th>game_week</th>\n",
       "      <th>weighted_actual_price</th>\n",
       "      <th>UseCount</th>\n",
       "      <th>Discount_HotDog</th>\n",
       "      <th>Discount_SouvCup</th>\n",
       "      <th>Discount_BtlWater</th>\n",
       "      <th>Discount_Peanuts</th>\n",
       "      <th>Discount_Nachos</th>\n",
       "      <th>Discount_Pretzel</th>\n",
       "      <th>Discount_Popcorn</th>\n",
       "    </tr>\n",
       "  </thead>\n",
       "  <tbody>\n",
       "    <tr>\n",
       "      <th>0</th>\n",
       "      <td>Game 1</td>\n",
       "      <td>4.639045</td>\n",
       "      <td>105</td>\n",
       "      <td>Yes</td>\n",
       "      <td>No</td>\n",
       "      <td>Yes</td>\n",
       "      <td>No</td>\n",
       "      <td>No</td>\n",
       "      <td>No</td>\n",
       "      <td>No</td>\n",
       "    </tr>\n",
       "    <tr>\n",
       "      <th>105</th>\n",
       "      <td>Game 2</td>\n",
       "      <td>2.420455</td>\n",
       "      <td>176</td>\n",
       "      <td>No</td>\n",
       "      <td>No</td>\n",
       "      <td>No</td>\n",
       "      <td>Yes</td>\n",
       "      <td>Yes</td>\n",
       "      <td>No</td>\n",
       "      <td>No</td>\n",
       "    </tr>\n",
       "    <tr>\n",
       "      <th>267</th>\n",
       "      <td>Game 3</td>\n",
       "      <td>4.640434</td>\n",
       "      <td>94</td>\n",
       "      <td>No</td>\n",
       "      <td>Yes</td>\n",
       "      <td>No</td>\n",
       "      <td>No</td>\n",
       "      <td>No</td>\n",
       "      <td>Yes</td>\n",
       "      <td>No</td>\n",
       "    </tr>\n",
       "    <tr>\n",
       "      <th>361</th>\n",
       "      <td>Game 4</td>\n",
       "      <td>4.649035</td>\n",
       "      <td>105</td>\n",
       "      <td>Yes</td>\n",
       "      <td>No</td>\n",
       "      <td>Yes</td>\n",
       "      <td>No</td>\n",
       "      <td>No</td>\n",
       "      <td>No</td>\n",
       "      <td>No</td>\n",
       "    </tr>\n",
       "    <tr>\n",
       "      <th>466</th>\n",
       "      <td>Game 5</td>\n",
       "      <td>4.646859</td>\n",
       "      <td>66</td>\n",
       "      <td>No</td>\n",
       "      <td>Yes</td>\n",
       "      <td>No</td>\n",
       "      <td>No</td>\n",
       "      <td>No</td>\n",
       "      <td>No</td>\n",
       "      <td>Yes</td>\n",
       "    </tr>\n",
       "    <tr>\n",
       "      <th>532</th>\n",
       "      <td>Game 6</td>\n",
       "      <td>4.630899</td>\n",
       "      <td>73</td>\n",
       "      <td>No</td>\n",
       "      <td>No</td>\n",
       "      <td>Yes</td>\n",
       "      <td>No</td>\n",
       "      <td>No</td>\n",
       "      <td>Yes</td>\n",
       "      <td>No</td>\n",
       "    </tr>\n",
       "    <tr>\n",
       "      <th>605</th>\n",
       "      <td>Game 7</td>\n",
       "      <td>4.651225</td>\n",
       "      <td>41</td>\n",
       "      <td>Yes</td>\n",
       "      <td>Yes</td>\n",
       "      <td>No</td>\n",
       "      <td>No</td>\n",
       "      <td>No</td>\n",
       "      <td>No</td>\n",
       "      <td>No</td>\n",
       "    </tr>\n",
       "    <tr>\n",
       "      <th>646</th>\n",
       "      <td>Game 8</td>\n",
       "      <td>4.553264</td>\n",
       "      <td>58</td>\n",
       "      <td>Yes</td>\n",
       "      <td>Yes</td>\n",
       "      <td>Yes</td>\n",
       "      <td>No</td>\n",
       "      <td>No</td>\n",
       "      <td>No</td>\n",
       "      <td>Yes</td>\n",
       "    </tr>\n",
       "  </tbody>\n",
       "</table>\n",
       "</div>"
      ],
      "text/plain": [
       "    game_week  weighted_actual_price  UseCount Discount_HotDog  \\\n",
       "0      Game 1               4.639045       105             Yes   \n",
       "105    Game 2               2.420455       176              No   \n",
       "267    Game 3               4.640434        94              No   \n",
       "361    Game 4               4.649035       105             Yes   \n",
       "466    Game 5               4.646859        66              No   \n",
       "532    Game 6               4.630899        73              No   \n",
       "605    Game 7               4.651225        41             Yes   \n",
       "646    Game 8               4.553264        58             Yes   \n",
       "\n",
       "    Discount_SouvCup Discount_BtlWater Discount_Peanuts Discount_Nachos  \\\n",
       "0                 No               Yes               No              No   \n",
       "105               No                No              Yes             Yes   \n",
       "267              Yes                No               No              No   \n",
       "361               No               Yes               No              No   \n",
       "466              Yes                No               No              No   \n",
       "532               No               Yes               No              No   \n",
       "605              Yes                No               No              No   \n",
       "646              Yes               Yes               No              No   \n",
       "\n",
       "    Discount_Pretzel Discount_Popcorn  \n",
       "0                 No               No  \n",
       "105               No               No  \n",
       "267              Yes               No  \n",
       "361               No               No  \n",
       "466               No              Yes  \n",
       "532              Yes               No  \n",
       "605               No               No  \n",
       "646               No              Yes  "
      ]
     },
     "execution_count": 95,
     "metadata": {},
     "output_type": "execute_result"
    }
   ],
   "source": [
    "peanut_demand_price_controlled"
   ]
  },
  {
   "cell_type": "code",
   "execution_count": 83,
   "metadata": {},
   "outputs": [
    {
     "name": "stderr",
     "output_type": "stream",
     "text": [
      "/tmp/ipykernel_415796/2492016641.py:6: FutureWarning: In a future version, `df.iloc[:, i] = newvals` will attempt to set the values inplace instead of always setting a new array. To retain the old behavior, use either `df[df.columns[i]] = newvals` or, if columns are non-unique, `df.isetitem(i, newvals)`\n",
      "  df_peanut.loc[:, ['Discount_HotDog', 'Discount_SouvCup', 'Discount_BtlWater',\n"
     ]
    }
   ],
   "source": [
    "from sklearn.preprocessing import LabelEncoder\n",
    "\n",
    "le = LabelEncoder()\n",
    "df_peanut = pd.get_dummies(peanut_demand_price_controlled, columns=['game_week'])\n",
    "\n",
    "df_peanut.loc[:, ['Discount_HotDog', 'Discount_SouvCup', 'Discount_BtlWater',\n",
    "       'Discount_Peanuts', 'Discount_Nachos', 'Discount_Pretzel',\n",
    "       'Discount_Popcorn']] = df_peanut.loc[:, ['Discount_HotDog', 'Discount_SouvCup', 'Discount_BtlWater',\n",
    "       'Discount_Peanuts', 'Discount_Nachos', 'Discount_Pretzel',\n",
    "       'Discount_Popcorn']].apply(le.fit_transform)\n",
    "\n",
    "df_peanut['weighted_actual_price'] = np.log(df_peanut['weighted_actual_price'])\n",
    "df_peanut['UseCount'] = np.log(df_peanut['UseCount'])"
   ]
  },
  {
   "cell_type": "code",
   "execution_count": 84,
   "metadata": {},
   "outputs": [
    {
     "data": {
      "text/html": [
       "<div>\n",
       "<style scoped>\n",
       "    .dataframe tbody tr th:only-of-type {\n",
       "        vertical-align: middle;\n",
       "    }\n",
       "\n",
       "    .dataframe tbody tr th {\n",
       "        vertical-align: top;\n",
       "    }\n",
       "\n",
       "    .dataframe thead th {\n",
       "        text-align: right;\n",
       "    }\n",
       "</style>\n",
       "<table border=\"1\" class=\"dataframe\">\n",
       "  <thead>\n",
       "    <tr style=\"text-align: right;\">\n",
       "      <th></th>\n",
       "      <th>weighted_actual_price</th>\n",
       "      <th>UseCount</th>\n",
       "      <th>Discount_HotDog</th>\n",
       "      <th>Discount_SouvCup</th>\n",
       "      <th>Discount_BtlWater</th>\n",
       "      <th>Discount_Peanuts</th>\n",
       "      <th>Discount_Nachos</th>\n",
       "      <th>Discount_Pretzel</th>\n",
       "      <th>Discount_Popcorn</th>\n",
       "      <th>game_week_Game 1</th>\n",
       "      <th>game_week_Game 2</th>\n",
       "      <th>game_week_Game 3</th>\n",
       "      <th>game_week_Game 4</th>\n",
       "      <th>game_week_Game 5</th>\n",
       "      <th>game_week_Game 6</th>\n",
       "      <th>game_week_Game 7</th>\n",
       "      <th>game_week_Game 8</th>\n",
       "    </tr>\n",
       "  </thead>\n",
       "  <tbody>\n",
       "    <tr>\n",
       "      <th>0</th>\n",
       "      <td>1.534509</td>\n",
       "      <td>4.653960</td>\n",
       "      <td>1</td>\n",
       "      <td>0</td>\n",
       "      <td>1</td>\n",
       "      <td>0</td>\n",
       "      <td>0</td>\n",
       "      <td>0</td>\n",
       "      <td>0</td>\n",
       "      <td>1</td>\n",
       "      <td>0</td>\n",
       "      <td>0</td>\n",
       "      <td>0</td>\n",
       "      <td>0</td>\n",
       "      <td>0</td>\n",
       "      <td>0</td>\n",
       "      <td>0</td>\n",
       "    </tr>\n",
       "    <tr>\n",
       "      <th>105</th>\n",
       "      <td>0.883955</td>\n",
       "      <td>5.170484</td>\n",
       "      <td>0</td>\n",
       "      <td>0</td>\n",
       "      <td>0</td>\n",
       "      <td>1</td>\n",
       "      <td>1</td>\n",
       "      <td>0</td>\n",
       "      <td>0</td>\n",
       "      <td>0</td>\n",
       "      <td>1</td>\n",
       "      <td>0</td>\n",
       "      <td>0</td>\n",
       "      <td>0</td>\n",
       "      <td>0</td>\n",
       "      <td>0</td>\n",
       "      <td>0</td>\n",
       "    </tr>\n",
       "    <tr>\n",
       "      <th>267</th>\n",
       "      <td>1.534808</td>\n",
       "      <td>4.543295</td>\n",
       "      <td>0</td>\n",
       "      <td>1</td>\n",
       "      <td>0</td>\n",
       "      <td>0</td>\n",
       "      <td>0</td>\n",
       "      <td>1</td>\n",
       "      <td>0</td>\n",
       "      <td>0</td>\n",
       "      <td>0</td>\n",
       "      <td>1</td>\n",
       "      <td>0</td>\n",
       "      <td>0</td>\n",
       "      <td>0</td>\n",
       "      <td>0</td>\n",
       "      <td>0</td>\n",
       "    </tr>\n",
       "    <tr>\n",
       "      <th>361</th>\n",
       "      <td>1.536660</td>\n",
       "      <td>4.653960</td>\n",
       "      <td>1</td>\n",
       "      <td>0</td>\n",
       "      <td>1</td>\n",
       "      <td>0</td>\n",
       "      <td>0</td>\n",
       "      <td>0</td>\n",
       "      <td>0</td>\n",
       "      <td>0</td>\n",
       "      <td>0</td>\n",
       "      <td>0</td>\n",
       "      <td>1</td>\n",
       "      <td>0</td>\n",
       "      <td>0</td>\n",
       "      <td>0</td>\n",
       "      <td>0</td>\n",
       "    </tr>\n",
       "    <tr>\n",
       "      <th>466</th>\n",
       "      <td>1.536191</td>\n",
       "      <td>4.189655</td>\n",
       "      <td>0</td>\n",
       "      <td>1</td>\n",
       "      <td>0</td>\n",
       "      <td>0</td>\n",
       "      <td>0</td>\n",
       "      <td>0</td>\n",
       "      <td>1</td>\n",
       "      <td>0</td>\n",
       "      <td>0</td>\n",
       "      <td>0</td>\n",
       "      <td>0</td>\n",
       "      <td>1</td>\n",
       "      <td>0</td>\n",
       "      <td>0</td>\n",
       "      <td>0</td>\n",
       "    </tr>\n",
       "    <tr>\n",
       "      <th>532</th>\n",
       "      <td>1.532751</td>\n",
       "      <td>4.290459</td>\n",
       "      <td>0</td>\n",
       "      <td>0</td>\n",
       "      <td>1</td>\n",
       "      <td>0</td>\n",
       "      <td>0</td>\n",
       "      <td>1</td>\n",
       "      <td>0</td>\n",
       "      <td>0</td>\n",
       "      <td>0</td>\n",
       "      <td>0</td>\n",
       "      <td>0</td>\n",
       "      <td>0</td>\n",
       "      <td>1</td>\n",
       "      <td>0</td>\n",
       "      <td>0</td>\n",
       "    </tr>\n",
       "    <tr>\n",
       "      <th>605</th>\n",
       "      <td>1.537131</td>\n",
       "      <td>3.713572</td>\n",
       "      <td>1</td>\n",
       "      <td>1</td>\n",
       "      <td>0</td>\n",
       "      <td>0</td>\n",
       "      <td>0</td>\n",
       "      <td>0</td>\n",
       "      <td>0</td>\n",
       "      <td>0</td>\n",
       "      <td>0</td>\n",
       "      <td>0</td>\n",
       "      <td>0</td>\n",
       "      <td>0</td>\n",
       "      <td>0</td>\n",
       "      <td>1</td>\n",
       "      <td>0</td>\n",
       "    </tr>\n",
       "    <tr>\n",
       "      <th>646</th>\n",
       "      <td>1.515844</td>\n",
       "      <td>4.060443</td>\n",
       "      <td>1</td>\n",
       "      <td>1</td>\n",
       "      <td>1</td>\n",
       "      <td>0</td>\n",
       "      <td>0</td>\n",
       "      <td>0</td>\n",
       "      <td>1</td>\n",
       "      <td>0</td>\n",
       "      <td>0</td>\n",
       "      <td>0</td>\n",
       "      <td>0</td>\n",
       "      <td>0</td>\n",
       "      <td>0</td>\n",
       "      <td>0</td>\n",
       "      <td>1</td>\n",
       "    </tr>\n",
       "  </tbody>\n",
       "</table>\n",
       "</div>"
      ],
      "text/plain": [
       "     weighted_actual_price  UseCount  Discount_HotDog  Discount_SouvCup  \\\n",
       "0                 1.534509  4.653960                1                 0   \n",
       "105               0.883955  5.170484                0                 0   \n",
       "267               1.534808  4.543295                0                 1   \n",
       "361               1.536660  4.653960                1                 0   \n",
       "466               1.536191  4.189655                0                 1   \n",
       "532               1.532751  4.290459                0                 0   \n",
       "605               1.537131  3.713572                1                 1   \n",
       "646               1.515844  4.060443                1                 1   \n",
       "\n",
       "     Discount_BtlWater  Discount_Peanuts  Discount_Nachos  Discount_Pretzel  \\\n",
       "0                    1                 0                0                 0   \n",
       "105                  0                 1                1                 0   \n",
       "267                  0                 0                0                 1   \n",
       "361                  1                 0                0                 0   \n",
       "466                  0                 0                0                 0   \n",
       "532                  1                 0                0                 1   \n",
       "605                  0                 0                0                 0   \n",
       "646                  1                 0                0                 0   \n",
       "\n",
       "     Discount_Popcorn  game_week_Game 1  game_week_Game 2  game_week_Game 3  \\\n",
       "0                   0                 1                 0                 0   \n",
       "105                 0                 0                 1                 0   \n",
       "267                 0                 0                 0                 1   \n",
       "361                 0                 0                 0                 0   \n",
       "466                 1                 0                 0                 0   \n",
       "532                 0                 0                 0                 0   \n",
       "605                 0                 0                 0                 0   \n",
       "646                 1                 0                 0                 0   \n",
       "\n",
       "     game_week_Game 4  game_week_Game 5  game_week_Game 6  game_week_Game 7  \\\n",
       "0                   0                 0                 0                 0   \n",
       "105                 0                 0                 0                 0   \n",
       "267                 0                 0                 0                 0   \n",
       "361                 1                 0                 0                 0   \n",
       "466                 0                 1                 0                 0   \n",
       "532                 0                 0                 1                 0   \n",
       "605                 0                 0                 0                 1   \n",
       "646                 0                 0                 0                 0   \n",
       "\n",
       "     game_week_Game 8  \n",
       "0                   0  \n",
       "105                 0  \n",
       "267                 0  \n",
       "361                 0  \n",
       "466                 0  \n",
       "532                 0  \n",
       "605                 0  \n",
       "646                 1  "
      ]
     },
     "execution_count": 84,
     "metadata": {},
     "output_type": "execute_result"
    }
   ],
   "source": [
    "df_peanut"
   ]
  },
  {
   "cell_type": "markdown",
   "metadata": {},
   "source": [
    "### Modeling"
   ]
  },
  {
   "cell_type": "code",
   "execution_count": 93,
   "metadata": {},
   "outputs": [
    {
     "name": "stdout",
     "output_type": "stream",
     "text": [
      "Price elasticity for peanuts is 1.627266635999568\n"
     ]
    }
   ],
   "source": [
    "import statsmodels.api as sm\n",
    "\n",
    "X = df_peanut.drop(labels='UseCount', axis = 1)\n",
    "X = sm.add_constant(X)\n",
    "y = df_peanut['UseCount']\n",
    "\n",
    "m_peanut = sm.OLS(y, X).fit()\n",
    "print('Price elasticity for peanuts is', m_peanut.params[1])"
   ]
  },
  {
   "cell_type": "markdown",
   "metadata": {},
   "source": [
    "### BAVARIAN PRETZEL"
   ]
  },
  {
   "cell_type": "code",
   "execution_count": 96,
   "metadata": {},
   "outputs": [
    {
     "name": "stderr",
     "output_type": "stream",
     "text": [
      "/tmp/ipykernel_415796/1977431129.py:2: FutureWarning: Indexing with multiple keys (implicitly converted to a tuple of keys) will be deprecated, use a list instead.\n",
      "  weights = bav_pret.groupby(by = ['game_week', 'Discount Type'])['UseCount', 'actual_price'].sum(numeric_only=True).reset_index()\n",
      "/tmp/ipykernel_415796/1977431129.py:5: FutureWarning: Indexing with multiple keys (implicitly converted to a tuple of keys) will be deprecated, use a list instead.\n",
      "  weights = weights.groupby(by = ['game_week'])['weighted_sums', 'uc2'].sum().reset_index()\n"
     ]
    }
   ],
   "source": [
    "bav_pret = dat.loc[dat['MENUITEMNAME'] == 'BAVARIAN PRETZEL', :]\n",
    "weights = bav_pret.groupby(by = ['game_week', 'Discount Type'])['UseCount', 'actual_price'].sum(numeric_only=True).reset_index()\n",
    "weights['weighted_sums'] = weights['UseCount'] * weights['actual_price']\n",
    "weights['uc2'] = weights['UseCount'] ** 2\n",
    "weights = weights.groupby(by = ['game_week'])['weighted_sums', 'uc2'].sum().reset_index()\n",
    "weights['weighted_actual_price'] = weights['weighted_sums'] / weights['uc2']\n",
    "\n",
    "demand = bav_pret.groupby(by = ['game_week'])['UseCount'].sum(numeric_only=True).reset_index()\n",
    "bav_demand_price = pd.merge(left = weights, right = demand, on = 'game_week')\n",
    "bav_demand_price.drop(labels=['weighted_sums', 'uc2'], axis = 1, inplace=True)"
   ]
  },
  {
   "cell_type": "code",
   "execution_count": 97,
   "metadata": {},
   "outputs": [
    {
     "name": "stderr",
     "output_type": "stream",
     "text": [
      "/tmp/ipykernel_415796/2718277997.py:8: FutureWarning: In a future version, `df.iloc[:, i] = newvals` will attempt to set the values inplace instead of always setting a new array. To retain the old behavior, use either `df[df.columns[i]] = newvals` or, if columns are non-unique, `df.isetitem(i, newvals)`\n",
      "  df_bav.loc[:, ['Discount_HotDog', 'Discount_SouvCup', 'Discount_BtlWater',\n"
     ]
    }
   ],
   "source": [
    "bav_demand_price_controlled = pd.merge(left=bav_demand_price, right=bav_pret.loc[:, ['game_week', 'Discount_HotDog', 'Discount_SouvCup', 'Discount_BtlWater',\n",
    "       'Discount_Peanuts', 'Discount_Nachos', 'Discount_Pretzel',\n",
    "       'Discount_Popcorn']], on = 'game_week', how = 'left').drop_duplicates('game_week')\n",
    "\n",
    "le = LabelEncoder()\n",
    "df_bav = pd.get_dummies(bav_demand_price_controlled, columns=['game_week'])\n",
    "\n",
    "df_bav.loc[:, ['Discount_HotDog', 'Discount_SouvCup', 'Discount_BtlWater',\n",
    "       'Discount_Peanuts', 'Discount_Nachos', 'Discount_Pretzel',\n",
    "       'Discount_Popcorn']] = df_bav.loc[:, ['Discount_HotDog', 'Discount_SouvCup', 'Discount_BtlWater',\n",
    "       'Discount_Peanuts', 'Discount_Nachos', 'Discount_Pretzel',\n",
    "       'Discount_Popcorn']].apply(le.fit_transform)\n",
    "\n",
    "df_bav['weighted_actual_price'] = np.log(df_bav['weighted_actual_price'])\n",
    "df_bav['UseCount'] = np.log(df_bav['UseCount'])"
   ]
  },
  {
   "cell_type": "code",
   "execution_count": 98,
   "metadata": {},
   "outputs": [
    {
     "name": "stdout",
     "output_type": "stream",
     "text": [
      "Price elasticity for bavarian pretzels is 1.6554631585823436\n"
     ]
    }
   ],
   "source": [
    "X = df_bav.drop(labels='UseCount', axis = 1)\n",
    "X = sm.add_constant(X)\n",
    "y = df_bav['UseCount']\n",
    "\n",
    "m_bav = sm.OLS(y, X).fit()\n",
    "print('Price elasticity for bavarian pretzels is', m_bav.params[1])"
   ]
  },
  {
   "cell_type": "markdown",
   "metadata": {},
   "source": [
    "### Nachos"
   ]
  },
  {
   "cell_type": "code",
   "execution_count": 100,
   "metadata": {},
   "outputs": [
    {
     "name": "stderr",
     "output_type": "stream",
     "text": [
      "/tmp/ipykernel_415796/3669065834.py:2: FutureWarning: Indexing with multiple keys (implicitly converted to a tuple of keys) will be deprecated, use a list instead.\n",
      "  weights = nacho.groupby(by = ['game_week', 'Discount Type'])['UseCount', 'actual_price'].sum(numeric_only=True).reset_index()\n",
      "/tmp/ipykernel_415796/3669065834.py:5: FutureWarning: Indexing with multiple keys (implicitly converted to a tuple of keys) will be deprecated, use a list instead.\n",
      "  weights = weights.groupby(by = ['game_week'])['weighted_sums', 'uc2'].sum().reset_index()\n"
     ]
    }
   ],
   "source": [
    "nacho = dat.loc[dat['MENUITEMNAME'] == 'NACHOS', :]\n",
    "weights = nacho.groupby(by = ['game_week', 'Discount Type'])['UseCount', 'actual_price'].sum(numeric_only=True).reset_index()\n",
    "weights['weighted_sums'] = weights['UseCount'] * weights['actual_price']\n",
    "weights['uc2'] = weights['UseCount'] ** 2\n",
    "weights = weights.groupby(by = ['game_week'])['weighted_sums', 'uc2'].sum().reset_index()\n",
    "weights['weighted_actual_price'] = weights['weighted_sums'] / weights['uc2']\n",
    "\n",
    "demand = nacho.groupby(by = ['game_week'])['UseCount'].sum(numeric_only=True).reset_index()\n",
    "nacho_demand_price = pd.merge(left = weights, right = demand, on = 'game_week')\n",
    "nacho_demand_price.drop(labels=['weighted_sums', 'uc2'], axis = 1, inplace=True)"
   ]
  },
  {
   "cell_type": "code",
   "execution_count": 103,
   "metadata": {},
   "outputs": [
    {
     "name": "stderr",
     "output_type": "stream",
     "text": [
      "/tmp/ipykernel_415796/1195458259.py:8: FutureWarning: In a future version, `df.iloc[:, i] = newvals` will attempt to set the values inplace instead of always setting a new array. To retain the old behavior, use either `df[df.columns[i]] = newvals` or, if columns are non-unique, `df.isetitem(i, newvals)`\n",
      "  df_nacho.loc[:, ['Discount_HotDog', 'Discount_SouvCup', 'Discount_BtlWater',\n"
     ]
    }
   ],
   "source": [
    "nacho_demand_price_controlled = pd.merge(left=nacho_demand_price, right=nacho.loc[:, ['game_week', 'Discount_HotDog', 'Discount_SouvCup', 'Discount_BtlWater',\n",
    "       'Discount_Peanuts', 'Discount_Nachos', 'Discount_Pretzel',\n",
    "       'Discount_Popcorn']], on = 'game_week', how = 'left').drop_duplicates('game_week')\n",
    "\n",
    "le = LabelEncoder()\n",
    "df_nacho = pd.get_dummies(nacho_demand_price_controlled, columns=['game_week'])\n",
    "\n",
    "df_nacho.loc[:, ['Discount_HotDog', 'Discount_SouvCup', 'Discount_BtlWater',\n",
    "       'Discount_Peanuts', 'Discount_Nachos', 'Discount_Pretzel',\n",
    "       'Discount_Popcorn']] = df_nacho.loc[:, ['Discount_HotDog', 'Discount_SouvCup', 'Discount_BtlWater',\n",
    "       'Discount_Peanuts', 'Discount_Nachos', 'Discount_Pretzel',\n",
    "       'Discount_Popcorn']].apply(le.fit_transform)\n",
    "\n",
    "df_nacho['weighted_actual_price'] = np.log(df_nacho['weighted_actual_price'])\n",
    "df_nacho['UseCount'] = np.log(df_nacho['UseCount'])"
   ]
  },
  {
   "cell_type": "code",
   "execution_count": 104,
   "metadata": {},
   "outputs": [
    {
     "name": "stdout",
     "output_type": "stream",
     "text": [
      "Price elasticity for nachos is 1.2932093146251684\n"
     ]
    }
   ],
   "source": [
    "X = df_nacho.drop(labels='UseCount', axis = 1)\n",
    "X = sm.add_constant(X)\n",
    "y = df_nacho['UseCount']\n",
    "\n",
    "m_nacho = sm.OLS(y, X).fit()\n",
    "print('Price elasticity for nachos is', m_nacho.params[1])"
   ]
  },
  {
   "cell_type": "markdown",
   "metadata": {},
   "source": [
    "### Souv Pop"
   ]
  },
  {
   "cell_type": "code",
   "execution_count": 105,
   "metadata": {},
   "outputs": [
    {
     "name": "stderr",
     "output_type": "stream",
     "text": [
      "/tmp/ipykernel_415796/1430224477.py:2: FutureWarning: Indexing with multiple keys (implicitly converted to a tuple of keys) will be deprecated, use a list instead.\n",
      "  weights = souv_pop.groupby(by = ['game_week', 'Discount Type'])['UseCount', 'actual_price'].sum(numeric_only=True).reset_index()\n",
      "/tmp/ipykernel_415796/1430224477.py:5: FutureWarning: Indexing with multiple keys (implicitly converted to a tuple of keys) will be deprecated, use a list instead.\n",
      "  weights = weights.groupby(by = ['game_week'])['weighted_sums', 'uc2'].sum().reset_index()\n"
     ]
    }
   ],
   "source": [
    "souv_pop = dat.loc[dat['MENUITEMNAME'] == 'SOUV POPCORN', :]\n",
    "weights = souv_pop.groupby(by = ['game_week', 'Discount Type'])['UseCount', 'actual_price'].sum(numeric_only=True).reset_index()\n",
    "weights['weighted_sums'] = weights['UseCount'] * weights['actual_price']\n",
    "weights['uc2'] = weights['UseCount'] ** 2\n",
    "weights = weights.groupby(by = ['game_week'])['weighted_sums', 'uc2'].sum().reset_index()\n",
    "weights['weighted_actual_price'] = weights['weighted_sums'] / weights['uc2']\n",
    "\n",
    "demand = souv_pop.groupby(by = ['game_week'])['UseCount'].sum(numeric_only=True).reset_index()\n",
    "souv_pop_demand_price = pd.merge(left = weights, right = demand, on = 'game_week')\n",
    "souv_pop_demand_price.drop(labels=['weighted_sums', 'uc2'], axis = 1, inplace=True)"
   ]
  },
  {
   "cell_type": "code",
   "execution_count": 106,
   "metadata": {},
   "outputs": [
    {
     "name": "stderr",
     "output_type": "stream",
     "text": [
      "/tmp/ipykernel_415796/409580849.py:8: FutureWarning: In a future version, `df.iloc[:, i] = newvals` will attempt to set the values inplace instead of always setting a new array. To retain the old behavior, use either `df[df.columns[i]] = newvals` or, if columns are non-unique, `df.isetitem(i, newvals)`\n",
      "  df_souv_pop.loc[:, ['Discount_HotDog', 'Discount_SouvCup', 'Discount_BtlWater',\n"
     ]
    }
   ],
   "source": [
    "souv_pop_demand_price_controlled = pd.merge(left=souv_pop_demand_price, right=souv_pop.loc[:, ['game_week', 'Discount_HotDog', 'Discount_SouvCup', 'Discount_BtlWater',\n",
    "       'Discount_Peanuts', 'Discount_Nachos', 'Discount_Pretzel',\n",
    "       'Discount_Popcorn']], on = 'game_week', how = 'left').drop_duplicates('game_week')\n",
    "\n",
    "le = LabelEncoder()\n",
    "df_souv_pop = pd.get_dummies(souv_pop_demand_price_controlled, columns=['game_week'])\n",
    "\n",
    "df_souv_pop.loc[:, ['Discount_HotDog', 'Discount_SouvCup', 'Discount_BtlWater',\n",
    "       'Discount_Peanuts', 'Discount_Nachos', 'Discount_Pretzel',\n",
    "       'Discount_Popcorn']] = df_souv_pop.loc[:, ['Discount_HotDog', 'Discount_SouvCup', 'Discount_BtlWater',\n",
    "       'Discount_Peanuts', 'Discount_Nachos', 'Discount_Pretzel',\n",
    "       'Discount_Popcorn']].apply(le.fit_transform)\n",
    "\n",
    "df_souv_pop['weighted_actual_price'] = np.log(df_souv_pop['weighted_actual_price'])\n",
    "df_souv_pop['UseCount'] = np.log(df_souv_pop['UseCount'])"
   ]
  },
  {
   "cell_type": "code",
   "execution_count": 107,
   "metadata": {},
   "outputs": [
    {
     "name": "stdout",
     "output_type": "stream",
     "text": [
      "Price elasticity for souvenir popcorn is 0.9196297575528346\n"
     ]
    }
   ],
   "source": [
    "X = df_souv_pop.drop(labels='UseCount', axis = 1)\n",
    "X = sm.add_constant(X)\n",
    "y = df_souv_pop['UseCount']\n",
    "\n",
    "m_souv_pop = sm.OLS(y, X).fit()\n",
    "print('Price elasticity for souvenir popcorn is', m_souv_pop.params[1])"
   ]
  },
  {
   "cell_type": "markdown",
   "metadata": {},
   "source": [
    "### Hot Dog"
   ]
  },
  {
   "cell_type": "code",
   "execution_count": 108,
   "metadata": {},
   "outputs": [
    {
     "name": "stderr",
     "output_type": "stream",
     "text": [
      "/tmp/ipykernel_415796/3883914336.py:2: FutureWarning: Indexing with multiple keys (implicitly converted to a tuple of keys) will be deprecated, use a list instead.\n",
      "  weights = hotdog.groupby(by = ['game_week', 'Discount Type'])['UseCount', 'actual_price'].sum(numeric_only=True).reset_index()\n",
      "/tmp/ipykernel_415796/3883914336.py:5: FutureWarning: Indexing with multiple keys (implicitly converted to a tuple of keys) will be deprecated, use a list instead.\n",
      "  weights = weights.groupby(by = ['game_week'])['weighted_sums', 'uc2'].sum().reset_index()\n"
     ]
    }
   ],
   "source": [
    "hotdog = dat.loc[dat['MENUITEMNAME'] == 'HOT DOG', :]\n",
    "weights = hotdog.groupby(by = ['game_week', 'Discount Type'])['UseCount', 'actual_price'].sum(numeric_only=True).reset_index()\n",
    "weights['weighted_sums'] = weights['UseCount'] * weights['actual_price']\n",
    "weights['uc2'] = weights['UseCount'] ** 2\n",
    "weights = weights.groupby(by = ['game_week'])['weighted_sums', 'uc2'].sum().reset_index()\n",
    "weights['weighted_actual_price'] = weights['weighted_sums'] / weights['uc2']\n",
    "\n",
    "demand = hotdog.groupby(by = ['game_week'])['UseCount'].sum(numeric_only=True).reset_index()\n",
    "hotdog_demand_price = pd.merge(left = weights, right = demand, on = 'game_week')\n",
    "hotdog_demand_price.drop(labels=['weighted_sums', 'uc2'], axis = 1, inplace=True)"
   ]
  },
  {
   "cell_type": "code",
   "execution_count": 109,
   "metadata": {},
   "outputs": [
    {
     "name": "stderr",
     "output_type": "stream",
     "text": [
      "/tmp/ipykernel_415796/781934360.py:8: FutureWarning: In a future version, `df.iloc[:, i] = newvals` will attempt to set the values inplace instead of always setting a new array. To retain the old behavior, use either `df[df.columns[i]] = newvals` or, if columns are non-unique, `df.isetitem(i, newvals)`\n",
      "  df_hotdog.loc[:, ['Discount_HotDog', 'Discount_SouvCup', 'Discount_BtlWater',\n"
     ]
    }
   ],
   "source": [
    "hotdog_demand_price_controlled = pd.merge(left=hotdog_demand_price, right=hotdog.loc[:, ['game_week', 'Discount_HotDog', 'Discount_SouvCup', 'Discount_BtlWater',\n",
    "       'Discount_Peanuts', 'Discount_Nachos', 'Discount_Pretzel',\n",
    "       'Discount_Popcorn']], on = 'game_week', how = 'left').drop_duplicates('game_week')\n",
    "\n",
    "le = LabelEncoder()\n",
    "df_hotdog = pd.get_dummies(hotdog_demand_price_controlled, columns=['game_week'])\n",
    "\n",
    "df_hotdog.loc[:, ['Discount_HotDog', 'Discount_SouvCup', 'Discount_BtlWater',\n",
    "       'Discount_Peanuts', 'Discount_Nachos', 'Discount_Pretzel',\n",
    "       'Discount_Popcorn']] = df_hotdog.loc[:, ['Discount_HotDog', 'Discount_SouvCup', 'Discount_BtlWater',\n",
    "       'Discount_Peanuts', 'Discount_Nachos', 'Discount_Pretzel',\n",
    "       'Discount_Popcorn']].apply(le.fit_transform)\n",
    "\n",
    "df_hotdog['weighted_actual_price'] = np.log(df_hotdog['weighted_actual_price'])\n",
    "df_hotdog['UseCount'] = np.log(df_hotdog['UseCount'])"
   ]
  },
  {
   "cell_type": "code",
   "execution_count": 110,
   "metadata": {},
   "outputs": [
    {
     "name": "stdout",
     "output_type": "stream",
     "text": [
      "Price elasticity for hot dog is 1.3294447595196361\n"
     ]
    }
   ],
   "source": [
    "X = df_hotdog.drop(labels='UseCount', axis = 1)\n",
    "X = sm.add_constant(X)\n",
    "y = df_hotdog['UseCount']\n",
    "\n",
    "m_hotdog = sm.OLS(y, X).fit()\n",
    "print('Price elasticity for hot dog is', m_hotdog.params[1])"
   ]
  },
  {
   "cell_type": "markdown",
   "metadata": {},
   "source": [
    "### Bottled Water (non 1L)"
   ]
  },
  {
   "cell_type": "code",
   "execution_count": 111,
   "metadata": {},
   "outputs": [
    {
     "name": "stderr",
     "output_type": "stream",
     "text": [
      "/tmp/ipykernel_415796/3487976040.py:2: FutureWarning: Indexing with multiple keys (implicitly converted to a tuple of keys) will be deprecated, use a list instead.\n",
      "  weights = btlwater.groupby(by = ['game_week', 'Discount Type'])['UseCount', 'actual_price'].sum(numeric_only=True).reset_index()\n",
      "/tmp/ipykernel_415796/3487976040.py:5: FutureWarning: Indexing with multiple keys (implicitly converted to a tuple of keys) will be deprecated, use a list instead.\n",
      "  weights = weights.groupby(by = ['game_week'])['weighted_sums', 'uc2'].sum().reset_index()\n"
     ]
    }
   ],
   "source": [
    "btlwater = dat.loc[dat['MENUITEMNAME'] == 'BTL DEJA BLUE', :]\n",
    "weights = btlwater.groupby(by = ['game_week', 'Discount Type'])['UseCount', 'actual_price'].sum(numeric_only=True).reset_index()\n",
    "weights['weighted_sums'] = weights['UseCount'] * weights['actual_price']\n",
    "weights['uc2'] = weights['UseCount'] ** 2\n",
    "weights = weights.groupby(by = ['game_week'])['weighted_sums', 'uc2'].sum().reset_index()\n",
    "weights['weighted_actual_price'] = weights['weighted_sums'] / weights['uc2']\n",
    "\n",
    "demand = btlwater.groupby(by = ['game_week'])['UseCount'].sum(numeric_only=True).reset_index()\n",
    "btlwater_demand_price = pd.merge(left = weights, right = demand, on = 'game_week')\n",
    "btlwater_demand_price.drop(labels=['weighted_sums', 'uc2'], axis = 1, inplace=True)"
   ]
  },
  {
   "cell_type": "code",
   "execution_count": 112,
   "metadata": {},
   "outputs": [
    {
     "name": "stderr",
     "output_type": "stream",
     "text": [
      "/tmp/ipykernel_415796/244546155.py:8: FutureWarning: In a future version, `df.iloc[:, i] = newvals` will attempt to set the values inplace instead of always setting a new array. To retain the old behavior, use either `df[df.columns[i]] = newvals` or, if columns are non-unique, `df.isetitem(i, newvals)`\n",
      "  df_btlwater.loc[:, ['Discount_HotDog', 'Discount_SouvCup', 'Discount_BtlWater',\n"
     ]
    }
   ],
   "source": [
    "btlwater_demand_price_controlled = pd.merge(left=btlwater_demand_price, right=btlwater.loc[:, ['game_week', 'Discount_HotDog', 'Discount_SouvCup', 'Discount_BtlWater',\n",
    "       'Discount_Peanuts', 'Discount_Nachos', 'Discount_Pretzel',\n",
    "       'Discount_Popcorn']], on = 'game_week', how = 'left').drop_duplicates('game_week')\n",
    "\n",
    "le = LabelEncoder()\n",
    "df_btlwater = pd.get_dummies(btlwater_demand_price_controlled, columns=['game_week'])\n",
    "\n",
    "df_btlwater.loc[:, ['Discount_HotDog', 'Discount_SouvCup', 'Discount_BtlWater',\n",
    "       'Discount_Peanuts', 'Discount_Nachos', 'Discount_Pretzel',\n",
    "       'Discount_Popcorn']] = df_btlwater.loc[:, ['Discount_HotDog', 'Discount_SouvCup', 'Discount_BtlWater',\n",
    "       'Discount_Peanuts', 'Discount_Nachos', 'Discount_Pretzel',\n",
    "       'Discount_Popcorn']].apply(le.fit_transform)\n",
    "\n",
    "df_btlwater['weighted_actual_price'] = np.log(df_btlwater['weighted_actual_price'])\n",
    "df_btlwater['UseCount'] = np.log(df_btlwater['UseCount'])"
   ]
  },
  {
   "cell_type": "code",
   "execution_count": 113,
   "metadata": {},
   "outputs": [
    {
     "name": "stdout",
     "output_type": "stream",
     "text": [
      "Price elasticity for bottled water is 1.795078309579582\n"
     ]
    }
   ],
   "source": [
    "X = df_btlwater.drop(labels='UseCount', axis = 1)\n",
    "X = sm.add_constant(X)\n",
    "y = df_btlwater['UseCount']\n",
    "\n",
    "m_btlwater = sm.OLS(y, X).fit()\n",
    "print('Price elasticity for bottled water is', m_btlwater.params[1])"
   ]
  },
  {
   "cell_type": "markdown",
   "metadata": {},
   "source": [
    "### Souvenir Soda (32 oz)"
   ]
  },
  {
   "cell_type": "code",
   "execution_count": 114,
   "metadata": {},
   "outputs": [
    {
     "name": "stderr",
     "output_type": "stream",
     "text": [
      "/tmp/ipykernel_415796/3570251779.py:2: FutureWarning: Indexing with multiple keys (implicitly converted to a tuple of keys) will be deprecated, use a list instead.\n",
      "  weights = souv_soda.groupby(by = ['game_week', 'Discount Type'])['UseCount', 'actual_price'].sum(numeric_only=True).reset_index()\n",
      "/tmp/ipykernel_415796/3570251779.py:5: FutureWarning: Indexing with multiple keys (implicitly converted to a tuple of keys) will be deprecated, use a list instead.\n",
      "  weights = weights.groupby(by = ['game_week'])['weighted_sums', 'uc2'].sum().reset_index()\n"
     ]
    }
   ],
   "source": [
    "souv_soda = dat.loc[dat['MENUITEMNAME'] == 'SOUV CUP 32', :]\n",
    "weights = souv_soda.groupby(by = ['game_week', 'Discount Type'])['UseCount', 'actual_price'].sum(numeric_only=True).reset_index()\n",
    "weights['weighted_sums'] = weights['UseCount'] * weights['actual_price']\n",
    "weights['uc2'] = weights['UseCount'] ** 2\n",
    "weights = weights.groupby(by = ['game_week'])['weighted_sums', 'uc2'].sum().reset_index()\n",
    "weights['weighted_actual_price'] = weights['weighted_sums'] / weights['uc2']\n",
    "\n",
    "demand = souv_soda.groupby(by = ['game_week'])['UseCount'].sum(numeric_only=True).reset_index()\n",
    "souv_soda_demand_price = pd.merge(left = weights, right = demand, on = 'game_week')\n",
    "souv_soda_demand_price.drop(labels=['weighted_sums', 'uc2'], axis = 1, inplace=True)"
   ]
  },
  {
   "cell_type": "code",
   "execution_count": 115,
   "metadata": {},
   "outputs": [
    {
     "name": "stderr",
     "output_type": "stream",
     "text": [
      "/tmp/ipykernel_415796/111283277.py:8: FutureWarning: In a future version, `df.iloc[:, i] = newvals` will attempt to set the values inplace instead of always setting a new array. To retain the old behavior, use either `df[df.columns[i]] = newvals` or, if columns are non-unique, `df.isetitem(i, newvals)`\n",
      "  df_souv_soda.loc[:, ['Discount_HotDog', 'Discount_SouvCup', 'Discount_BtlWater',\n"
     ]
    }
   ],
   "source": [
    "souv_soda_demand_price_controlled = pd.merge(left=souv_soda_demand_price, right=souv_soda.loc[:, ['game_week', 'Discount_HotDog', 'Discount_SouvCup', 'Discount_BtlWater',\n",
    "       'Discount_Peanuts', 'Discount_Nachos', 'Discount_Pretzel',\n",
    "       'Discount_Popcorn']], on = 'game_week', how = 'left').drop_duplicates('game_week')\n",
    "\n",
    "le = LabelEncoder()\n",
    "df_souv_soda = pd.get_dummies(souv_soda_demand_price_controlled, columns=['game_week'])\n",
    "\n",
    "df_souv_soda.loc[:, ['Discount_HotDog', 'Discount_SouvCup', 'Discount_BtlWater',\n",
    "       'Discount_Peanuts', 'Discount_Nachos', 'Discount_Pretzel',\n",
    "       'Discount_Popcorn']] = df_souv_soda.loc[:, ['Discount_HotDog', 'Discount_SouvCup', 'Discount_BtlWater',\n",
    "       'Discount_Peanuts', 'Discount_Nachos', 'Discount_Pretzel',\n",
    "       'Discount_Popcorn']].apply(le.fit_transform)\n",
    "\n",
    "df_souv_soda['weighted_actual_price'] = np.log(df_souv_soda['weighted_actual_price'])\n",
    "df_souv_soda['UseCount'] = np.log(df_souv_soda['UseCount'])"
   ]
  },
  {
   "cell_type": "code",
   "execution_count": 116,
   "metadata": {},
   "outputs": [
    {
     "name": "stdout",
     "output_type": "stream",
     "text": [
      "Price elasticity for bottled water is 1.8596246211141163\n"
     ]
    }
   ],
   "source": [
    "X = df_souv_soda.drop(labels='UseCount', axis = 1)\n",
    "X = sm.add_constant(X)\n",
    "y = df_souv_soda['UseCount']\n",
    "\n",
    "m_souv_soda = sm.OLS(y, X).fit()\n",
    "print('Price elasticity for bottled water is', m_souv_soda.params[1])"
   ]
  },
  {
   "cell_type": "code",
   "execution_count": 99,
   "metadata": {},
   "outputs": [
    {
     "data": {
      "text/plain": [
       "array(['BAG PEANUTS', 'BAVARIAN PRETZEL', 'BRATWURST', 'BTL DEJA BLUE 1L',\n",
       "       'BTL DEJA BLUE', 'BURG CHS', 'BURG VEGGIE', 'CHICAGO DOG',\n",
       "       'CHIX TENDER BSKT', 'COFFEE 12', 'FRIES BSKT', 'HOT DOG',\n",
       "       'NACHOS SUPREME', 'NACHOS', 'POPCORN SML', 'SAND ITLIAN BEEF',\n",
       "       'SAUSAGE ITALIAN', 'SAUSAGE POLISH', 'SD CHEESE CUP',\n",
       "       'SLC PIZ CHEESE', 'SLC PIZ PEPPRNI', 'SLC PIZ SAUSAGE',\n",
       "       'SODA CUP 16', 'SOUV CUP 32', 'SOUV POPCORN'], dtype=object)"
      ]
     },
     "execution_count": 99,
     "metadata": {},
     "output_type": "execute_result"
    }
   ],
   "source": []
  },
  {
   "cell_type": "markdown",
   "metadata": {},
   "source": []
  }
 ],
 "metadata": {
  "kernelspec": {
   "display_name": "Python 3.10.6 ('fitx-env')",
   "language": "python",
   "name": "python3"
  },
  "language_info": {
   "codemirror_mode": {
    "name": "ipython",
    "version": 3
   },
   "file_extension": ".py",
   "mimetype": "text/x-python",
   "name": "python",
   "nbconvert_exporter": "python",
   "pygments_lexer": "ipython3",
   "version": "3.10.6"
  },
  "orig_nbformat": 4,
  "vscode": {
   "interpreter": {
    "hash": "f808375ee0c26230367b99300a1024ca25862f53bfe999a5a2c7ec48916b47de"
   }
  }
 },
 "nbformat": 4,
 "nbformat_minor": 2
}
