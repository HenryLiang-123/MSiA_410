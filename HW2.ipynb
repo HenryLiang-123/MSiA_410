{
 "cells": [
  {
   "attachments": {},
   "cell_type": "markdown",
   "metadata": {},
   "source": [
    "## Why is modeling helpful?"
   ]
  },
  {
   "attachments": {},
   "cell_type": "markdown",
   "metadata": {},
   "source": [
    "### 1.\n",
    "\n",
    "Predictive modeling can show trends and patterns in the number of surgeries scheduled vs the actual number of surgeries performed.\n",
    "\n",
    "### 2.\n",
    "\n",
    "Predictive modeling can predict the number of actual surgeries performed on a given day, which can help with resource and staff allocation.\n",
    "\n",
    "### 3.\n",
    "\n",
    "With additional data, one can identify factors related to surgeon availability, seasonality, or health trends such as COVID-19 that affect the number of actual surgeries vs number of schedules surgeries; the hospital can thus prepare accordingly.\n",
    "\n",
    "### 4.\n",
    "\n",
    "Predictive modeling allows for automatic scheduling of surgeons, patients, nurses, and other important hospital staff around high volume or low volume periods to ensure maximizing resource utilization and minimizing waste.\n",
    "\n",
    "### 5.\n",
    "\n",
    "Predictive modeling can be used as a benchmark to see if the hospital's current policies are allowing it to function most efficiently as well as evaluate new changes."
   ]
  },
  {
   "cell_type": "code",
   "execution_count": 181,
   "metadata": {},
   "outputs": [],
   "source": [
    "import pandas as pd\n",
    "import matplotlib.pyplot as plt\n",
    "\n",
    "dat = pd.read_csv('ElectiveSurgeryData.csv')"
   ]
  },
  {
   "cell_type": "code",
   "execution_count": 182,
   "metadata": {},
   "outputs": [
    {
     "data": {
      "text/plain": [
       "(241, 19)"
      ]
     },
     "execution_count": 182,
     "metadata": {},
     "output_type": "execute_result"
    }
   ],
   "source": [
    "dat.shape"
   ]
  },
  {
   "cell_type": "code",
   "execution_count": 183,
   "metadata": {},
   "outputs": [
    {
     "data": {
      "text/html": [
       "<div>\n",
       "<style scoped>\n",
       "    .dataframe tbody tr th:only-of-type {\n",
       "        vertical-align: middle;\n",
       "    }\n",
       "\n",
       "    .dataframe tbody tr th {\n",
       "        vertical-align: top;\n",
       "    }\n",
       "\n",
       "    .dataframe thead th {\n",
       "        text-align: right;\n",
       "    }\n",
       "</style>\n",
       "<table border=\"1\" class=\"dataframe\">\n",
       "  <thead>\n",
       "    <tr style=\"text-align: right;\">\n",
       "      <th></th>\n",
       "      <th>SurgDate</th>\n",
       "      <th>DOW</th>\n",
       "      <th>T - 28</th>\n",
       "      <th>T - 21</th>\n",
       "      <th>T - 14</th>\n",
       "      <th>T - 13</th>\n",
       "      <th>T - 12</th>\n",
       "      <th>T - 11</th>\n",
       "      <th>T - 10</th>\n",
       "      <th>T - 9</th>\n",
       "      <th>T - 8</th>\n",
       "      <th>T - 7</th>\n",
       "      <th>T - 6</th>\n",
       "      <th>T - 5</th>\n",
       "      <th>T - 4</th>\n",
       "      <th>T - 3</th>\n",
       "      <th>T - 2</th>\n",
       "      <th>T - 1</th>\n",
       "      <th>Actual</th>\n",
       "    </tr>\n",
       "  </thead>\n",
       "  <tbody>\n",
       "    <tr>\n",
       "      <th>0</th>\n",
       "      <td>10/10/2011</td>\n",
       "      <td>Mon</td>\n",
       "      <td>38</td>\n",
       "      <td>45</td>\n",
       "      <td>60</td>\n",
       "      <td>63</td>\n",
       "      <td>65</td>\n",
       "      <td>70</td>\n",
       "      <td>73</td>\n",
       "      <td>73</td>\n",
       "      <td>73</td>\n",
       "      <td>80</td>\n",
       "      <td>84</td>\n",
       "      <td>89</td>\n",
       "      <td>94</td>\n",
       "      <td>98</td>\n",
       "      <td>100</td>\n",
       "      <td>104</td>\n",
       "      <td>106</td>\n",
       "    </tr>\n",
       "    <tr>\n",
       "      <th>1</th>\n",
       "      <td>10/11/2011</td>\n",
       "      <td>Tue</td>\n",
       "      <td>35</td>\n",
       "      <td>47</td>\n",
       "      <td>65</td>\n",
       "      <td>68</td>\n",
       "      <td>78</td>\n",
       "      <td>82</td>\n",
       "      <td>82</td>\n",
       "      <td>82</td>\n",
       "      <td>86</td>\n",
       "      <td>89</td>\n",
       "      <td>92</td>\n",
       "      <td>95</td>\n",
       "      <td>99</td>\n",
       "      <td>99</td>\n",
       "      <td>99</td>\n",
       "      <td>114</td>\n",
       "      <td>121</td>\n",
       "    </tr>\n",
       "    <tr>\n",
       "      <th>2</th>\n",
       "      <td>10/12/2011</td>\n",
       "      <td>Wed</td>\n",
       "      <td>26</td>\n",
       "      <td>43</td>\n",
       "      <td>54</td>\n",
       "      <td>62</td>\n",
       "      <td>72</td>\n",
       "      <td>72</td>\n",
       "      <td>72</td>\n",
       "      <td>74</td>\n",
       "      <td>87</td>\n",
       "      <td>94</td>\n",
       "      <td>96</td>\n",
       "      <td>101</td>\n",
       "      <td>102</td>\n",
       "      <td>102</td>\n",
       "      <td>106</td>\n",
       "      <td>114</td>\n",
       "      <td>126</td>\n",
       "    </tr>\n",
       "    <tr>\n",
       "      <th>3</th>\n",
       "      <td>10/13/2011</td>\n",
       "      <td>Thu</td>\n",
       "      <td>28</td>\n",
       "      <td>48</td>\n",
       "      <td>65</td>\n",
       "      <td>70</td>\n",
       "      <td>72</td>\n",
       "      <td>72</td>\n",
       "      <td>72</td>\n",
       "      <td>82</td>\n",
       "      <td>87</td>\n",
       "      <td>91</td>\n",
       "      <td>94</td>\n",
       "      <td>94</td>\n",
       "      <td>94</td>\n",
       "      <td>97</td>\n",
       "      <td>98</td>\n",
       "      <td>103</td>\n",
       "      <td>114</td>\n",
       "    </tr>\n",
       "    <tr>\n",
       "      <th>4</th>\n",
       "      <td>10/14/2011</td>\n",
       "      <td>Fri</td>\n",
       "      <td>31</td>\n",
       "      <td>40</td>\n",
       "      <td>50</td>\n",
       "      <td>50</td>\n",
       "      <td>50</td>\n",
       "      <td>54</td>\n",
       "      <td>62</td>\n",
       "      <td>68</td>\n",
       "      <td>71</td>\n",
       "      <td>73</td>\n",
       "      <td>73</td>\n",
       "      <td>73</td>\n",
       "      <td>78</td>\n",
       "      <td>83</td>\n",
       "      <td>87</td>\n",
       "      <td>94</td>\n",
       "      <td>106</td>\n",
       "    </tr>\n",
       "    <tr>\n",
       "      <th>5</th>\n",
       "      <td>10/17/2011</td>\n",
       "      <td>Mon</td>\n",
       "      <td>41</td>\n",
       "      <td>56</td>\n",
       "      <td>65</td>\n",
       "      <td>69</td>\n",
       "      <td>72</td>\n",
       "      <td>73</td>\n",
       "      <td>77</td>\n",
       "      <td>78</td>\n",
       "      <td>78</td>\n",
       "      <td>80</td>\n",
       "      <td>86</td>\n",
       "      <td>85</td>\n",
       "      <td>86</td>\n",
       "      <td>92</td>\n",
       "      <td>96</td>\n",
       "      <td>102</td>\n",
       "      <td>111</td>\n",
       "    </tr>\n",
       "    <tr>\n",
       "      <th>6</th>\n",
       "      <td>10/18/2011</td>\n",
       "      <td>Tue</td>\n",
       "      <td>44</td>\n",
       "      <td>55</td>\n",
       "      <td>69</td>\n",
       "      <td>74</td>\n",
       "      <td>79</td>\n",
       "      <td>83</td>\n",
       "      <td>83</td>\n",
       "      <td>83</td>\n",
       "      <td>93</td>\n",
       "      <td>92</td>\n",
       "      <td>96</td>\n",
       "      <td>103</td>\n",
       "      <td>105</td>\n",
       "      <td>105</td>\n",
       "      <td>107</td>\n",
       "      <td>114</td>\n",
       "      <td>122</td>\n",
       "    </tr>\n",
       "    <tr>\n",
       "      <th>7</th>\n",
       "      <td>10/19/2011</td>\n",
       "      <td>Wed</td>\n",
       "      <td>32</td>\n",
       "      <td>40</td>\n",
       "      <td>62</td>\n",
       "      <td>66</td>\n",
       "      <td>71</td>\n",
       "      <td>73</td>\n",
       "      <td>73</td>\n",
       "      <td>84</td>\n",
       "      <td>86</td>\n",
       "      <td>87</td>\n",
       "      <td>89</td>\n",
       "      <td>96</td>\n",
       "      <td>96</td>\n",
       "      <td>96</td>\n",
       "      <td>102</td>\n",
       "      <td>119</td>\n",
       "      <td>127</td>\n",
       "    </tr>\n",
       "    <tr>\n",
       "      <th>8</th>\n",
       "      <td>10/20/2011</td>\n",
       "      <td>Thu</td>\n",
       "      <td>33</td>\n",
       "      <td>44</td>\n",
       "      <td>62</td>\n",
       "      <td>66</td>\n",
       "      <td>67</td>\n",
       "      <td>67</td>\n",
       "      <td>79</td>\n",
       "      <td>77</td>\n",
       "      <td>88</td>\n",
       "      <td>90</td>\n",
       "      <td>98</td>\n",
       "      <td>98</td>\n",
       "      <td>98</td>\n",
       "      <td>105</td>\n",
       "      <td>111</td>\n",
       "      <td>118</td>\n",
       "      <td>116</td>\n",
       "    </tr>\n",
       "    <tr>\n",
       "      <th>9</th>\n",
       "      <td>10/21/2011</td>\n",
       "      <td>Fri</td>\n",
       "      <td>20</td>\n",
       "      <td>32</td>\n",
       "      <td>48</td>\n",
       "      <td>48</td>\n",
       "      <td>48</td>\n",
       "      <td>47</td>\n",
       "      <td>52</td>\n",
       "      <td>55</td>\n",
       "      <td>59</td>\n",
       "      <td>61</td>\n",
       "      <td>61</td>\n",
       "      <td>61</td>\n",
       "      <td>69</td>\n",
       "      <td>72</td>\n",
       "      <td>70</td>\n",
       "      <td>88</td>\n",
       "      <td>99</td>\n",
       "    </tr>\n",
       "  </tbody>\n",
       "</table>\n",
       "</div>"
      ],
      "text/plain": [
       "     SurgDate  DOW  T - 28  T - 21  T - 14  T - 13  T - 12  T - 11  T - 10  \\\n",
       "0  10/10/2011  Mon      38      45      60      63      65      70      73   \n",
       "1  10/11/2011  Tue      35      47      65      68      78      82      82   \n",
       "2  10/12/2011  Wed      26      43      54      62      72      72      72   \n",
       "3  10/13/2011  Thu      28      48      65      70      72      72      72   \n",
       "4  10/14/2011  Fri      31      40      50      50      50      54      62   \n",
       "5  10/17/2011  Mon      41      56      65      69      72      73      77   \n",
       "6  10/18/2011  Tue      44      55      69      74      79      83      83   \n",
       "7  10/19/2011  Wed      32      40      62      66      71      73      73   \n",
       "8  10/20/2011  Thu      33      44      62      66      67      67      79   \n",
       "9  10/21/2011  Fri      20      32      48      48      48      47      52   \n",
       "\n",
       "   T - 9  T - 8  T - 7  T - 6  T - 5  T - 4  T - 3  T - 2  T - 1  Actual  \n",
       "0     73     73     80     84     89     94     98    100    104     106  \n",
       "1     82     86     89     92     95     99     99     99    114     121  \n",
       "2     74     87     94     96    101    102    102    106    114     126  \n",
       "3     82     87     91     94     94     94     97     98    103     114  \n",
       "4     68     71     73     73     73     78     83     87     94     106  \n",
       "5     78     78     80     86     85     86     92     96    102     111  \n",
       "6     83     93     92     96    103    105    105    107    114     122  \n",
       "7     84     86     87     89     96     96     96    102    119     127  \n",
       "8     77     88     90     98     98     98    105    111    118     116  \n",
       "9     55     59     61     61     61     69     72     70     88      99  "
      ]
     },
     "execution_count": 183,
     "metadata": {},
     "output_type": "execute_result"
    }
   ],
   "source": [
    "dat.columns = dat.columns.str.strip()\n",
    "dat.head(10)"
   ]
  },
  {
   "attachments": {},
   "cell_type": "markdown",
   "metadata": {},
   "source": [
    "### RF"
   ]
  },
  {
   "cell_type": "code",
   "execution_count": 184,
   "metadata": {},
   "outputs": [
    {
     "name": "stderr",
     "output_type": "stream",
     "text": [
      "c:\\Users\\henry\\anaconda3\\lib\\site-packages\\seaborn\\distributions.py:2551: FutureWarning: `distplot` is a deprecated function and will be removed in a future version. Please adapt your code to use either `displot` (a figure-level function with similar flexibility) or `histplot` (an axes-level function for histograms).\n",
      "  warnings.warn(msg, FutureWarning)\n"
     ]
    },
    {
     "data": {
      "image/png": "[encoded data removed]",
      "text/plain": [
       "<Figure size 640x480 with 1 Axes>"
      ]
     },
     "metadata": {},
     "output_type": "display_data"
    },
    {
     "data": {
      "text/plain": [
       "<Figure size 640x480 with 0 Axes>"
      ]
     },
     "metadata": {},
     "output_type": "display_data"
    }
   ],
   "source": [
    "#histogram and normal probability plot\n",
    "from sklearn.ensemble import RandomForestRegressor\n",
    "import numpy as np\n",
    "from scipy.stats import norm\n",
    "import statistics as stats\n",
    "import seaborn as sns\n",
    "import statsmodels.api as sm\n",
    "sns.distplot(dat['Actual'],fit=norm)\n",
    "fig = plt.figure()"
   ]
  },
  {
   "cell_type": "code",
   "execution_count": 185,
   "metadata": {},
   "outputs": [
    {
     "data": {
      "text/html": [
       "<div>\n",
       "<style scoped>\n",
       "    .dataframe tbody tr th:only-of-type {\n",
       "        vertical-align: middle;\n",
       "    }\n",
       "\n",
       "    .dataframe tbody tr th {\n",
       "        vertical-align: top;\n",
       "    }\n",
       "\n",
       "    .dataframe thead th {\n",
       "        text-align: right;\n",
       "    }\n",
       "</style>\n",
       "<table border=\"1\" class=\"dataframe\">\n",
       "  <thead>\n",
       "    <tr style=\"text-align: right;\">\n",
       "      <th></th>\n",
       "      <th>SurgDate</th>\n",
       "      <th>DOW</th>\n",
       "      <th>T - 28</th>\n",
       "      <th>T - 21</th>\n",
       "      <th>T - 14</th>\n",
       "      <th>T - 13</th>\n",
       "      <th>T - 12</th>\n",
       "      <th>T - 11</th>\n",
       "      <th>T - 10</th>\n",
       "      <th>T - 9</th>\n",
       "      <th>T - 8</th>\n",
       "      <th>T - 7</th>\n",
       "      <th>T - 6</th>\n",
       "      <th>T - 5</th>\n",
       "      <th>T - 4</th>\n",
       "      <th>T - 3</th>\n",
       "      <th>T - 2</th>\n",
       "      <th>T - 1</th>\n",
       "      <th>Actual</th>\n",
       "    </tr>\n",
       "  </thead>\n",
       "  <tbody>\n",
       "    <tr>\n",
       "      <th>33</th>\n",
       "      <td>11/25/2011</td>\n",
       "      <td>Fri</td>\n",
       "      <td>0</td>\n",
       "      <td>0</td>\n",
       "      <td>1</td>\n",
       "      <td>1</td>\n",
       "      <td>1</td>\n",
       "      <td>1</td>\n",
       "      <td>2</td>\n",
       "      <td>2</td>\n",
       "      <td>2</td>\n",
       "      <td>3</td>\n",
       "      <td>3</td>\n",
       "      <td>3</td>\n",
       "      <td>3</td>\n",
       "      <td>4</td>\n",
       "      <td>7</td>\n",
       "      <td>12</td>\n",
       "      <td>16</td>\n",
       "    </tr>\n",
       "    <tr>\n",
       "      <th>53</th>\n",
       "      <td>12/23/2011</td>\n",
       "      <td>Fri</td>\n",
       "      <td>0</td>\n",
       "      <td>0</td>\n",
       "      <td>0</td>\n",
       "      <td>0</td>\n",
       "      <td>0</td>\n",
       "      <td>0</td>\n",
       "      <td>0</td>\n",
       "      <td>0</td>\n",
       "      <td>0</td>\n",
       "      <td>0</td>\n",
       "      <td>0</td>\n",
       "      <td>0</td>\n",
       "      <td>0</td>\n",
       "      <td>0</td>\n",
       "      <td>0</td>\n",
       "      <td>4</td>\n",
       "      <td>14</td>\n",
       "    </tr>\n",
       "    <tr>\n",
       "      <th>54</th>\n",
       "      <td>12/26/2011</td>\n",
       "      <td>Mon</td>\n",
       "      <td>0</td>\n",
       "      <td>0</td>\n",
       "      <td>0</td>\n",
       "      <td>0</td>\n",
       "      <td>0</td>\n",
       "      <td>0</td>\n",
       "      <td>0</td>\n",
       "      <td>0</td>\n",
       "      <td>0</td>\n",
       "      <td>0</td>\n",
       "      <td>0</td>\n",
       "      <td>0</td>\n",
       "      <td>0</td>\n",
       "      <td>0</td>\n",
       "      <td>1</td>\n",
       "      <td>3</td>\n",
       "      <td>16</td>\n",
       "    </tr>\n",
       "    <tr>\n",
       "      <th>58</th>\n",
       "      <td>12/30/2011</td>\n",
       "      <td>Fri</td>\n",
       "      <td>1</td>\n",
       "      <td>1</td>\n",
       "      <td>1</td>\n",
       "      <td>1</td>\n",
       "      <td>1</td>\n",
       "      <td>1</td>\n",
       "      <td>1</td>\n",
       "      <td>1</td>\n",
       "      <td>1</td>\n",
       "      <td>1</td>\n",
       "      <td>1</td>\n",
       "      <td>1</td>\n",
       "      <td>1</td>\n",
       "      <td>1</td>\n",
       "      <td>2</td>\n",
       "      <td>6</td>\n",
       "      <td>11</td>\n",
       "    </tr>\n",
       "  </tbody>\n",
       "</table>\n",
       "</div>"
      ],
      "text/plain": [
       "      SurgDate  DOW  T - 28  T - 21  T - 14  T - 13  T - 12  T - 11  T - 10  \\\n",
       "33  11/25/2011  Fri       0       0       1       1       1       1       2   \n",
       "53  12/23/2011  Fri       0       0       0       0       0       0       0   \n",
       "54  12/26/2011  Mon       0       0       0       0       0       0       0   \n",
       "58  12/30/2011  Fri       1       1       1       1       1       1       1   \n",
       "\n",
       "    T - 9  T - 8  T - 7  T - 6  T - 5  T - 4  T - 3  T - 2  T - 1  Actual  \n",
       "33      2      2      3      3      3      3      4      7     12      16  \n",
       "53      0      0      0      0      0      0      0      0      4      14  \n",
       "54      0      0      0      0      0      0      0      1      3      16  \n",
       "58      1      1      1      1      1      1      1      2      6      11  "
      ]
     },
     "execution_count": 185,
     "metadata": {},
     "output_type": "execute_result"
    }
   ],
   "source": [
    "# These dates have significantly less schedules surgeries due to being holidays.\n",
    "# We will remove them since they are clearly outliers.\n",
    "dat.loc[dat['Actual'] < 20]"
   ]
  },
  {
   "cell_type": "code",
   "execution_count": 186,
   "metadata": {},
   "outputs": [
    {
     "data": {
      "text/plain": [
       "(237, 19)"
      ]
     },
     "execution_count": 186,
     "metadata": {},
     "output_type": "execute_result"
    }
   ],
   "source": [
    "dat = dat.drop(dat[dat['Actual'] < 20].index)\n",
    "dat.shape"
   ]
  },
  {
   "cell_type": "code",
   "execution_count": 187,
   "metadata": {},
   "outputs": [
    {
     "data": {
      "text/plain": [
       "[<matplotlib.lines.Line2D at 0x2427b45a670>]"
      ]
     },
     "execution_count": 187,
     "metadata": {},
     "output_type": "execute_result"
    },
    {
     "data": {
      "image/png": "[encoded data removed]",
      "text/plain": [
       "<Figure size 640x480 with 1 Axes>"
      ]
     },
     "metadata": {},
     "output_type": "display_data"
    }
   ],
   "source": [
    "plt.plot(dat[\"Actual\"])"
   ]
  },
  {
   "cell_type": "code",
   "execution_count": 188,
   "metadata": {},
   "outputs": [],
   "source": [
    "# data is time series, actual of one day could be related to actual of previous day\n",
    "import datetime as dt\n",
    "dat['Actual_prev'] = dat['Actual'].shift(1)\n",
    "dat = dat.dropna()\n",
    "dat['SurgDate'] = pd.to_datetime(dat['SurgDate']).map(dt.datetime.toordinal)\n"
   ]
  },
  {
   "cell_type": "code",
   "execution_count": 189,
   "metadata": {},
   "outputs": [],
   "source": [
    "# One hot encode day of week\n",
    "one_hot_dat = pd.get_dummies(dat, columns=['DOW'])"
   ]
  },
  {
   "cell_type": "code",
   "execution_count": 190,
   "metadata": {},
   "outputs": [],
   "source": [
    "from sklearn.model_selection import TimeSeriesSplit\n",
    "tscv = TimeSeriesSplit(n_splits=2)\n",
    "X = one_hot_dat.drop(labels = 'Actual', axis = 1)\n",
    "Y = one_hot_dat['Actual']\n",
    "for i, (train_index, test_index) in enumerate(tscv.split(X)):\n",
    "    train_x, test_x = X.iloc[train_index, :], X.iloc[test_index, :]\n",
    "    train_y, test_y = Y.iloc[train_index], Y.iloc[test_index]"
   ]
  },
  {
   "cell_type": "code",
   "execution_count": 191,
   "metadata": {},
   "outputs": [
    {
     "data": {
      "text/plain": [
       "dtype('int64')"
      ]
     },
     "execution_count": 191,
     "metadata": {},
     "output_type": "execute_result"
    }
   ],
   "source": [
    "one_hot_dat['SurgDate'].dtype"
   ]
  },
  {
   "cell_type": "code",
   "execution_count": 192,
   "metadata": {},
   "outputs": [
    {
     "data": {
      "text/plain": [
       "array([101.487, 125.418, 125.14 , 122.074, 110.837, 122.249, 114.126,\n",
       "       108.125, 128.249, 116.265, 129.744, 125.654, 135.619, 133.909,\n",
       "       106.748, 127.11 , 123.675, 123.227, 137.877,  96.335, 129.26 ,\n",
       "       113.873, 120.211, 123.647, 108.196, 130.564, 108.217, 103.94 ,\n",
       "       115.21 , 115.959, 119.723, 121.314, 116.043, 104.615, 115.675,\n",
       "       107.838, 115.046, 113.412, 106.873, 109.88 , 112.574, 102.637,\n",
       "       118.729, 106.261, 114.034, 120.749, 113.486, 127.153, 119.137,\n",
       "       115.456, 119.235, 121.641, 120.151, 103.332, 126.162, 132.099,\n",
       "       119.291, 126.372, 113.097, 120.604, 126.488, 127.884, 136.327,\n",
       "       129.23 , 126.509, 138.626, 120.18 , 131.265, 121.563, 120.523,\n",
       "        99.984, 119.575,  96.727, 114.722, 107.22 , 117.042, 115.5  ,\n",
       "       106.936])"
      ]
     },
     "execution_count": 192,
     "metadata": {},
     "output_type": "execute_result"
    }
   ],
   "source": [
    "rf = RandomForestRegressor(n_estimators=1000)\n",
    "rf.fit(train_x, train_y)\n",
    "\n",
    "rf.predict(test_x)"
   ]
  },
  {
   "cell_type": "code",
   "execution_count": 193,
   "metadata": {},
   "outputs": [
    {
     "data": {
      "text/plain": [
       "163    100\n",
       "164    135\n",
       "165    129\n",
       "166    120\n",
       "167    117\n",
       "      ... \n",
       "236    118\n",
       "237    108\n",
       "238    121\n",
       "239    114\n",
       "240    102\n",
       "Name: Actual, Length: 78, dtype: int64"
      ]
     },
     "execution_count": 193,
     "metadata": {},
     "output_type": "execute_result"
    }
   ],
   "source": [
    "test_y"
   ]
  },
  {
   "attachments": {},
   "cell_type": "markdown",
   "metadata": {},
   "source": [
    "### Barchart"
   ]
  },
  {
   "cell_type": "code",
   "execution_count": 29,
   "metadata": {},
   "outputs": [
    {
     "data": {
      "text/html": [
       "<div>\n",
       "<style scoped>\n",
       "    .dataframe tbody tr th:only-of-type {\n",
       "        vertical-align: middle;\n",
       "    }\n",
       "\n",
       "    .dataframe tbody tr th {\n",
       "        vertical-align: top;\n",
       "    }\n",
       "\n",
       "    .dataframe thead th {\n",
       "        text-align: right;\n",
       "    }\n",
       "</style>\n",
       "<table border=\"1\" class=\"dataframe\">\n",
       "  <thead>\n",
       "    <tr style=\"text-align: right;\">\n",
       "      <th></th>\n",
       "      <th>DOW</th>\n",
       "      <th>Actual</th>\n",
       "    </tr>\n",
       "  </thead>\n",
       "  <tbody>\n",
       "    <tr>\n",
       "      <th>0</th>\n",
       "      <td>Fri</td>\n",
       "      <td>105.612245</td>\n",
       "    </tr>\n",
       "    <tr>\n",
       "      <th>1</th>\n",
       "      <td>Mon</td>\n",
       "      <td>116.255319</td>\n",
       "    </tr>\n",
       "    <tr>\n",
       "      <th>2</th>\n",
       "      <td>Thu</td>\n",
       "      <td>124.083333</td>\n",
       "    </tr>\n",
       "    <tr>\n",
       "      <th>3</th>\n",
       "      <td>Tue</td>\n",
       "      <td>119.081633</td>\n",
       "    </tr>\n",
       "    <tr>\n",
       "      <th>4</th>\n",
       "      <td>Wed</td>\n",
       "      <td>117.041667</td>\n",
       "    </tr>\n",
       "  </tbody>\n",
       "</table>\n",
       "</div>"
      ],
      "text/plain": [
       "   DOW      Actual\n",
       "0  Fri  105.612245\n",
       "1  Mon  116.255319\n",
       "2  Thu  124.083333\n",
       "3  Tue  119.081633\n",
       "4  Wed  117.041667"
      ]
     },
     "execution_count": 29,
     "metadata": {},
     "output_type": "execute_result"
    }
   ],
   "source": [
    "df = dat.groupby(['DOW']).mean().reset_index()[[\"DOW\", \"Actual\"]]"
   ]
  },
  {
   "cell_type": "code",
   "execution_count": 41,
   "metadata": {},
   "outputs": [
    {
     "data": {
      "image/png": "[encoded data removed]",
      "text/plain": [
       "<Figure size 640x480 with 1 Axes>"
      ]
     },
     "metadata": {},
     "output_type": "display_data"
    }
   ],
   "source": [
    "df['key'] = [5,1,4,2,3]\n",
    "df_sorted = df.sort_values(by = 'key')[['DOW', 'Actual']]\n",
    "fig = plt.figure()\n",
    "ax = fig.add_axes([0,0,1,1])\n",
    "ax.bar(df_sorted[\"DOW\"], df_sorted[\"Actual\"])\n",
    "plt.title('Thursday has the most surgeries on average')\n",
    "plt.ylabel('Number of Surgeries on Average')\n",
    "plt.show()"
   ]
  }
 ],
 "metadata": {
  "kernelspec": {
   "display_name": "Python 3",
   "language": "python",
   "name": "python3"
  },
  "language_info": {
   "codemirror_mode": {
    "name": "ipython",
    "version": 3
   },
   "file_extension": ".py",
   "mimetype": "text/x-python",
   "name": "python",
   "nbconvert_exporter": "python",
   "pygments_lexer": "ipython3",
   "version": "3.8.5"
  },
  "orig_nbformat": 4,
  "vscode": {
   "interpreter": {
    "hash": "f1a4a4f144332a771e00e7433ba769f3488621905bd9605b0b008be2dfad0e0c"
   }
  }
 },
 "nbformat": 4,
 "nbformat_minor": 2
}
