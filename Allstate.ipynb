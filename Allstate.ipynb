{
 "cells": [
  {
   "cell_type": "markdown",
   "metadata": {},
   "source": [
    "## Question 1"
   ]
  },
  {
   "cell_type": "markdown",
   "metadata": {},
   "source": [
    "Allstate wants to get in on the \"insurtech\" by rolling out Advisor Pro, which helps agents give better responses and help customers better. However, because insurance is regulated at the state level, to roll out this new technology to every state would be very expensive, complicated and time consuming. It must be thoroughly tested in order to make sure the full roll-out is worth the all-in investment."
   ]
  },
  {
   "cell_type": "markdown",
   "metadata": {},
   "source": [
    "## Question 2"
   ]
  },
  {
   "cell_type": "markdown",
   "metadata": {},
   "source": [
    "Due to technology restraits, complexity, and sales volume, the rollout of this technology was limited to 5 to 10 states every 2 months according to varying priority dictated by the complexity of rollout and the sales volume. The control group were chosen from the states that were last on the list in terms of priority (i.e. not randomized)"
   ]
  },
  {
   "cell_type": "markdown",
   "metadata": {},
   "source": [
    "## Question 3"
   ]
  },
  {
   "cell_type": "markdown",
   "metadata": {},
   "source": [
    "- There is some merit to his method of evaluation. Although it was not possible to conduct a truly randomized experiment by randomly assigning control and treatment, he made sure that factors of the control group such as seasonal sales volume and growth rates where as similar as possible to the treatment group. However, it is worth noting that other factors should be made as similar as possible as well. The case says that the sales process (ads, product enhancements, etc) was the forth or fifth most important factor. Ideally, the factors that could influence the outcome of the test should be as similar as possible.\n",
    "\n",
    "- Possibly conduct an A/A test to measure the effect of Allstate's sales process by comparing sales pre and post new sales process. This should be done before the pilot test with control and treatment.\n",
    "\n",
    "- "
   ]
  },
  {
   "cell_type": "code",
   "execution_count": null,
   "metadata": {},
   "outputs": [],
   "source": [
    "# Todo: Plot trend of control vs trend of treatment"
   ]
  }
 ],
 "metadata": {
  "kernelspec": {
   "display_name": "Python 3.10.6 ('fitx-env')",
   "language": "python",
   "name": "python3"
  },
  "language_info": {
   "name": "python",
   "version": "3.10.6"
  },
  "orig_nbformat": 4,
  "vscode": {
   "interpreter": {
    "hash": "f808375ee0c26230367b99300a1024ca25862f53bfe999a5a2c7ec48916b47de"
   }
  }
 },
 "nbformat": 4,
 "nbformat_minor": 2
}
