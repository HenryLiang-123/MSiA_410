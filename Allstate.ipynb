{
 "cells": [
  {
   "cell_type": "markdown",
   "metadata": {},
   "source": [
    "## Question 1"
   ]
  },
  {
   "cell_type": "markdown",
   "metadata": {},
   "source": [
    "Allstate wants to get in on the \"insurtech\" by rolling out Advisor Pro, which helps agents give better responses and help customers better. However, because insurance is regulated at the state level, to roll out this new technology to every state would be very expensive, complicated and time consuming. It must be thoroughly tested in order to make sure the full roll-out is worth the all-in investment."
   ]
  },
  {
   "cell_type": "markdown",
   "metadata": {},
   "source": [
    "## Question 2"
   ]
  },
  {
   "cell_type": "markdown",
   "metadata": {},
   "source": [
    "Due to technology restraits, complexity, and sales volume, the rollout of this technology was limited to 5 to 10 states every 2 months according to varying priority dictated by the complexity of rollout and the sales volume. The control group were chosen from the states that were last on the list in terms of priority (i.e. not randomized)"
   ]
  },
  {
   "cell_type": "markdown",
   "metadata": {},
   "source": [
    "## Question 3"
   ]
  },
  {
   "cell_type": "code",
   "execution_count": null,
   "metadata": {},
   "outputs": [],
   "source": []
  }
 ],
 "metadata": {
  "kernelspec": {
   "display_name": "Python 3.10.6 ('fitx-env')",
   "language": "python",
   "name": "python3"
  },
  "language_info": {
   "name": "python",
   "version": "3.10.6"
  },
  "orig_nbformat": 4,
  "vscode": {
   "interpreter": {
    "hash": "f808375ee0c26230367b99300a1024ca25862f53bfe999a5a2c7ec48916b47de"
   }
  }
 },
 "nbformat": 4,
 "nbformat_minor": 2
}
